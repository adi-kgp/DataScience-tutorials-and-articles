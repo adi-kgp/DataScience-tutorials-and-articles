{
 "cells": [
  {
   "cell_type": "markdown",
   "id": "1237485d-d8bf-4689-8d3a-6eb8b50e3342",
   "metadata": {},
   "source": [
    "## Benford's Law\n",
    "\n",
    "In 1881, astronomer Simon Newcomb noticed something strange while examining a book of logarithmic table.\n",
    "He realized that the beginning pages of the book (which are showing the log values of 1) are more worn than the last pages (which are showing the log values of 9). At first glance, you might not realize what's going on here. But Simon Newcomb realized that people use the logarithmic table most of the time for numbers starting with number 1 and use the table rarely for numbers starting with 9. Please dont confuse it with a normal book. Yes, most of the time, when you pick up a book and look at it, the beginning pages are much worn than the last pages. Because you start a book from the beginning. But this is a logarithmic table book that people use as a tool to get to know the logarithmic value of a number. He published an article about his findings and formulated the probability of a number starting with a digit as :\n",
    "\n",
    "P(d) = log10(d+1) - log10(d)\n",
    "\n",
    "You might ask why it is called Benford's Law. Because at the time, Newcomb's article did not get much attention, but 57 years later , Frank Benford made the same observation and applied this to many fields. Unlike Newcomb, Benford's article garnered a lot of attention, and the law is called Benford's Law.\n",
    "\n",
    "The law says if you get a wide range of data from a set of naturally occurring numbers and group them by their leading digit and count them up, you will eventually get a distribution like this (Image title: The distribution of first digits, according to Benford's Law, Source: Wikipedia)"
   ]
  },
  {
   "cell_type": "code",
   "execution_count": 4,
   "id": "5143af70-ad8a-4b74-bc24-e085cb3f3ec6",
   "metadata": {},
   "outputs": [
    {
     "data": {
      "image/png": "[encoded data removed]",
      "text/plain": [
       "<IPython.core.display.Image object>"
      ]
     },
     "execution_count": 4,
     "metadata": {},
     "output_type": "execute_result"
    }
   ],
   "source": [
    "from IPython import display\n",
    "display.Image(\"benford's law.png\")"
   ]
  },
  {
   "cell_type": "markdown",
   "id": "a9b41662-b122-40ac-b89e-368f6444e0fb",
   "metadata": {},
   "source": [
    "This method is widely used in areas such as forensic accounting analysis, fraud detection etc. But you need to make sure your data follows these rules:\n",
    "\n",
    "* Benford's law works better with larger sets of data. \n",
    "\n",
    "* Your data must give equal chance for every digit, example, you cannot use people's height because the leading digits would be 1 and 2 most of the time."
   ]
  },
  {
   "cell_type": "markdown",
   "id": "d528b6ce-d42d-49ba-ad26-4a898c6947b3",
   "metadata": {},
   "source": [
    "### Demo\n",
    "\n",
    "The dataset used in this notebook is from Kaggle's Google Play Application Statistics page:\n",
    "https://www.kaggle.com/datasets/lava18/google-play-store-apps"
   ]
  },
  {
   "cell_type": "code",
   "execution_count": 6,
   "id": "541556ea-4980-43f2-ba40-ec2fde9dc80a",
   "metadata": {},
   "outputs": [
    {
     "data": {
      "text/html": [
       "<div>\n",
       "<style scoped>\n",
       "    .dataframe tbody tr th:only-of-type {\n",
       "        vertical-align: middle;\n",
       "    }\n",
       "\n",
       "    .dataframe tbody tr th {\n",
       "        vertical-align: top;\n",
       "    }\n",
       "\n",
       "    .dataframe thead th {\n",
       "        text-align: right;\n",
       "    }\n",
       "</style>\n",
       "<table border=\"1\" class=\"dataframe\">\n",
       "  <thead>\n",
       "    <tr style=\"text-align: right;\">\n",
       "      <th></th>\n",
       "      <th>App</th>\n",
       "      <th>Category</th>\n",
       "      <th>Rating</th>\n",
       "      <th>Reviews</th>\n",
       "      <th>Size</th>\n",
       "      <th>Installs</th>\n",
       "      <th>Type</th>\n",
       "      <th>Price</th>\n",
       "      <th>Content Rating</th>\n",
       "      <th>Genres</th>\n",
       "      <th>Last Updated</th>\n",
       "      <th>Current Ver</th>\n",
       "      <th>Android Ver</th>\n",
       "    </tr>\n",
       "  </thead>\n",
       "  <tbody>\n",
       "    <tr>\n",
       "      <th>0</th>\n",
       "      <td>Photo Editor &amp; Candy Camera &amp; Grid &amp; ScrapBook</td>\n",
       "      <td>ART_AND_DESIGN</td>\n",
       "      <td>4.1</td>\n",
       "      <td>159</td>\n",
       "      <td>19M</td>\n",
       "      <td>10,000+</td>\n",
       "      <td>Free</td>\n",
       "      <td>0</td>\n",
       "      <td>Everyone</td>\n",
       "      <td>Art &amp; Design</td>\n",
       "      <td>January 7, 2018</td>\n",
       "      <td>1.0.0</td>\n",
       "      <td>4.0.3 and up</td>\n",
       "    </tr>\n",
       "    <tr>\n",
       "      <th>1</th>\n",
       "      <td>Coloring book moana</td>\n",
       "      <td>ART_AND_DESIGN</td>\n",
       "      <td>3.9</td>\n",
       "      <td>967</td>\n",
       "      <td>14M</td>\n",
       "      <td>500,000+</td>\n",
       "      <td>Free</td>\n",
       "      <td>0</td>\n",
       "      <td>Everyone</td>\n",
       "      <td>Art &amp; Design;Pretend Play</td>\n",
       "      <td>January 15, 2018</td>\n",
       "      <td>2.0.0</td>\n",
       "      <td>4.0.3 and up</td>\n",
       "    </tr>\n",
       "    <tr>\n",
       "      <th>2</th>\n",
       "      <td>U Launcher Lite – FREE Live Cool Themes, Hide ...</td>\n",
       "      <td>ART_AND_DESIGN</td>\n",
       "      <td>4.7</td>\n",
       "      <td>87510</td>\n",
       "      <td>8.7M</td>\n",
       "      <td>5,000,000+</td>\n",
       "      <td>Free</td>\n",
       "      <td>0</td>\n",
       "      <td>Everyone</td>\n",
       "      <td>Art &amp; Design</td>\n",
       "      <td>August 1, 2018</td>\n",
       "      <td>1.2.4</td>\n",
       "      <td>4.0.3 and up</td>\n",
       "    </tr>\n",
       "    <tr>\n",
       "      <th>3</th>\n",
       "      <td>Sketch - Draw &amp; Paint</td>\n",
       "      <td>ART_AND_DESIGN</td>\n",
       "      <td>4.5</td>\n",
       "      <td>215644</td>\n",
       "      <td>25M</td>\n",
       "      <td>50,000,000+</td>\n",
       "      <td>Free</td>\n",
       "      <td>0</td>\n",
       "      <td>Teen</td>\n",
       "      <td>Art &amp; Design</td>\n",
       "      <td>June 8, 2018</td>\n",
       "      <td>Varies with device</td>\n",
       "      <td>4.2 and up</td>\n",
       "    </tr>\n",
       "    <tr>\n",
       "      <th>4</th>\n",
       "      <td>Pixel Draw - Number Art Coloring Book</td>\n",
       "      <td>ART_AND_DESIGN</td>\n",
       "      <td>4.3</td>\n",
       "      <td>967</td>\n",
       "      <td>2.8M</td>\n",
       "      <td>100,000+</td>\n",
       "      <td>Free</td>\n",
       "      <td>0</td>\n",
       "      <td>Everyone</td>\n",
       "      <td>Art &amp; Design;Creativity</td>\n",
       "      <td>June 20, 2018</td>\n",
       "      <td>1.1</td>\n",
       "      <td>4.4 and up</td>\n",
       "    </tr>\n",
       "  </tbody>\n",
       "</table>\n",
       "</div>"
      ],
      "text/plain": [
       "                                                 App        Category  Rating  \\\n",
       "0     Photo Editor & Candy Camera & Grid & ScrapBook  ART_AND_DESIGN     4.1   \n",
       "1                                Coloring book moana  ART_AND_DESIGN     3.9   \n",
       "2  U Launcher Lite – FREE Live Cool Themes, Hide ...  ART_AND_DESIGN     4.7   \n",
       "3                              Sketch - Draw & Paint  ART_AND_DESIGN     4.5   \n",
       "4              Pixel Draw - Number Art Coloring Book  ART_AND_DESIGN     4.3   \n",
       "\n",
       "  Reviews  Size     Installs  Type Price Content Rating  \\\n",
       "0     159   19M      10,000+  Free     0       Everyone   \n",
       "1     967   14M     500,000+  Free     0       Everyone   \n",
       "2   87510  8.7M   5,000,000+  Free     0       Everyone   \n",
       "3  215644   25M  50,000,000+  Free     0           Teen   \n",
       "4     967  2.8M     100,000+  Free     0       Everyone   \n",
       "\n",
       "                      Genres      Last Updated         Current Ver  \\\n",
       "0               Art & Design   January 7, 2018               1.0.0   \n",
       "1  Art & Design;Pretend Play  January 15, 2018               2.0.0   \n",
       "2               Art & Design    August 1, 2018               1.2.4   \n",
       "3               Art & Design      June 8, 2018  Varies with device   \n",
       "4    Art & Design;Creativity     June 20, 2018                 1.1   \n",
       "\n",
       "    Android Ver  \n",
       "0  4.0.3 and up  \n",
       "1  4.0.3 and up  \n",
       "2  4.0.3 and up  \n",
       "3    4.2 and up  \n",
       "4    4.4 and up  "
      ]
     },
     "execution_count": 6,
     "metadata": {},
     "output_type": "execute_result"
    }
   ],
   "source": [
    "# Importing necessary libraries\n",
    "import math\n",
    "import pandas as pd\n",
    "import matplotlib.pyplot as plt\n",
    "\n",
    "df = pd.read_csv(\"data/googleplaystore.csv\")\n",
    "df.head()"
   ]
  },
  {
   "cell_type": "markdown",
   "id": "8ec45069-f29f-4d23-9f70-5039ff2c4da4",
   "metadata": {},
   "source": [
    "As we anticipate from this law's definition, we need large variety of data to apply this law. For example, if we apply this law to \"Rating\" column, then we wont be covering all the integers from 1 to 9 since that column's max value is 5. But \"Reviews\" caolumn fits the law, let's see what we will get:"
   ]
  },
  {
   "cell_type": "code",
   "execution_count": 13,
   "id": "70288ece-f4be-4a1c-90c0-7c4e307de4c9",
   "metadata": {},
   "outputs": [
    {
     "data": {
      "text/plain": [
       "1    0.280786\n",
       "2    0.177659\n",
       "3    0.117148\n",
       "4    0.094087\n",
       "5    0.073056\n",
       "6    0.063740\n",
       "7    0.052578\n",
       "8    0.046675\n",
       "9    0.039295\n",
       "Name: Reviews, dtype: float64"
      ]
     },
     "execution_count": 13,
     "metadata": {},
     "output_type": "execute_result"
    }
   ],
   "source": [
    "\"\"\" Now we extract column \"Review\" from the dataset and normalize them to show proportionally.\"\"\"\n",
    "digit_counts = df[\"Reviews\"].dropna().astype(str).str[0].value_counts(normalize=True).drop('0')\n",
    "digit_counts"
   ]
  },
  {
   "cell_type": "markdown",
   "id": "9fb628f7-a462-472f-a1e1-d155c9e2bd48",
   "metadata": {},
   "source": [
    "To make it more understable, I added a label to the columns and changed the indexing, as I will merge this with another dataframe."
   ]
  },
  {
   "cell_type": "code",
   "execution_count": 15,
   "id": "3b1317bd-07d8-412a-86c7-3b7ffef54334",
   "metadata": {},
   "outputs": [
    {
     "data": {
      "text/html": [
       "<div>\n",
       "<style scoped>\n",
       "    .dataframe tbody tr th:only-of-type {\n",
       "        vertical-align: middle;\n",
       "    }\n",
       "\n",
       "    .dataframe tbody tr th {\n",
       "        vertical-align: top;\n",
       "    }\n",
       "\n",
       "    .dataframe thead th {\n",
       "        text-align: right;\n",
       "    }\n",
       "</style>\n",
       "<table border=\"1\" class=\"dataframe\">\n",
       "  <thead>\n",
       "    <tr style=\"text-align: right;\">\n",
       "      <th></th>\n",
       "      <th>Leading Digit</th>\n",
       "      <th>Observed</th>\n",
       "    </tr>\n",
       "  </thead>\n",
       "  <tbody>\n",
       "    <tr>\n",
       "      <th>0</th>\n",
       "      <td>1</td>\n",
       "      <td>0.280786</td>\n",
       "    </tr>\n",
       "    <tr>\n",
       "      <th>1</th>\n",
       "      <td>2</td>\n",
       "      <td>0.177659</td>\n",
       "    </tr>\n",
       "    <tr>\n",
       "      <th>2</th>\n",
       "      <td>3</td>\n",
       "      <td>0.117148</td>\n",
       "    </tr>\n",
       "    <tr>\n",
       "      <th>3</th>\n",
       "      <td>4</td>\n",
       "      <td>0.094087</td>\n",
       "    </tr>\n",
       "    <tr>\n",
       "      <th>4</th>\n",
       "      <td>5</td>\n",
       "      <td>0.073056</td>\n",
       "    </tr>\n",
       "    <tr>\n",
       "      <th>5</th>\n",
       "      <td>6</td>\n",
       "      <td>0.063740</td>\n",
       "    </tr>\n",
       "    <tr>\n",
       "      <th>6</th>\n",
       "      <td>7</td>\n",
       "      <td>0.052578</td>\n",
       "    </tr>\n",
       "    <tr>\n",
       "      <th>7</th>\n",
       "      <td>8</td>\n",
       "      <td>0.046675</td>\n",
       "    </tr>\n",
       "    <tr>\n",
       "      <th>8</th>\n",
       "      <td>9</td>\n",
       "      <td>0.039295</td>\n",
       "    </tr>\n",
       "  </tbody>\n",
       "</table>\n",
       "</div>"
      ],
      "text/plain": [
       "  Leading Digit  Observed\n",
       "0             1  0.280786\n",
       "1             2  0.177659\n",
       "2             3  0.117148\n",
       "3             4  0.094087\n",
       "4             5  0.073056\n",
       "5             6  0.063740\n",
       "6             7  0.052578\n",
       "7             8  0.046675\n",
       "8             9  0.039295"
      ]
     },
     "execution_count": 15,
     "metadata": {},
     "output_type": "execute_result"
    }
   ],
   "source": [
    "digit_count_df = pd.DataFrame({\"Leading Digit\": digit_counts.index, \"Observed\" : digit_counts.values})\n",
    "digit_count_df"
   ]
  },
  {
   "cell_type": "markdown",
   "id": "b4f172b6-1fff-4251-9461-b0bc748e15a8",
   "metadata": {},
   "source": [
    "Since we want to compare the distribution of the leading digits of the reviews with Benford's standard distribution values, I calculated the expected values of the leading digits of my reviews. "
   ]
  },
  {
   "cell_type": "code",
   "execution_count": 18,
   "id": "b257f843-76a5-4bb5-905b-e07a50e519e5",
   "metadata": {},
   "outputs": [
    {
     "data": {
      "text/html": [
       "<div>\n",
       "<style scoped>\n",
       "    .dataframe tbody tr th:only-of-type {\n",
       "        vertical-align: middle;\n",
       "    }\n",
       "\n",
       "    .dataframe tbody tr th {\n",
       "        vertical-align: top;\n",
       "    }\n",
       "\n",
       "    .dataframe thead th {\n",
       "        text-align: right;\n",
       "    }\n",
       "</style>\n",
       "<table border=\"1\" class=\"dataframe\">\n",
       "  <thead>\n",
       "    <tr style=\"text-align: right;\">\n",
       "      <th></th>\n",
       "      <th>Benford</th>\n",
       "    </tr>\n",
       "  </thead>\n",
       "  <tbody>\n",
       "    <tr>\n",
       "      <th>0</th>\n",
       "      <td>0.301030</td>\n",
       "    </tr>\n",
       "    <tr>\n",
       "      <th>1</th>\n",
       "      <td>0.176091</td>\n",
       "    </tr>\n",
       "    <tr>\n",
       "      <th>2</th>\n",
       "      <td>0.124939</td>\n",
       "    </tr>\n",
       "    <tr>\n",
       "      <th>3</th>\n",
       "      <td>0.096910</td>\n",
       "    </tr>\n",
       "    <tr>\n",
       "      <th>4</th>\n",
       "      <td>0.079181</td>\n",
       "    </tr>\n",
       "    <tr>\n",
       "      <th>5</th>\n",
       "      <td>0.066947</td>\n",
       "    </tr>\n",
       "    <tr>\n",
       "      <th>6</th>\n",
       "      <td>0.057992</td>\n",
       "    </tr>\n",
       "    <tr>\n",
       "      <th>7</th>\n",
       "      <td>0.051153</td>\n",
       "    </tr>\n",
       "    <tr>\n",
       "      <th>8</th>\n",
       "      <td>0.045757</td>\n",
       "    </tr>\n",
       "  </tbody>\n",
       "</table>\n",
       "</div>"
      ],
      "text/plain": [
       "    Benford\n",
       "0  0.301030\n",
       "1  0.176091\n",
       "2  0.124939\n",
       "3  0.096910\n",
       "4  0.079181\n",
       "5  0.066947\n",
       "6  0.057992\n",
       "7  0.051153\n",
       "8  0.045757"
      ]
     },
     "execution_count": 18,
     "metadata": {},
     "output_type": "execute_result"
    }
   ],
   "source": [
    "expected = {\n",
    "    \"1\" : [math.log10((1+1)/1)],\n",
    "    \"2\" : [math.log10((2+1)/2)],\n",
    "    \"3\" : [math.log10((3+1)/3)],\n",
    "    \"4\" : [math.log10((4+1)/4)],\n",
    "    \"5\" : [math.log10((5+1)/5)],\n",
    "    \"6\" : [math.log10((6+1)/6)],\n",
    "    \"7\" : [math.log10((7+1)/7)],\n",
    "    \"8\" : [math.log10((8+1)/8)],\n",
    "    \"9\" : [math.log10((9+1)/9)]\n",
    "}\n",
    "\n",
    "expected_df = pd.DataFrame.from_dict(expected, orient=\"index\", \n",
    "                                     columns=['Benford']).set_index(pd.Index([0,1,2,3,4,5,6,7,8]))\n",
    "expected_df"
   ]
  },
  {
   "cell_type": "markdown",
   "id": "5a56c627-488f-4bf8-89de-81d28188c6e8",
   "metadata": {},
   "source": [
    "After we concantenate the dataframes, we can see that our observations fit Benford's distribution. Lets visualize this on a graph. "
   ]
  },
  {
   "cell_type": "code",
   "execution_count": 19,
   "id": "6ce803a2-99ff-4a36-abd7-6ebd2c829716",
   "metadata": {},
   "outputs": [
    {
     "data": {
      "text/html": [
       "<div>\n",
       "<style scoped>\n",
       "    .dataframe tbody tr th:only-of-type {\n",
       "        vertical-align: middle;\n",
       "    }\n",
       "\n",
       "    .dataframe tbody tr th {\n",
       "        vertical-align: top;\n",
       "    }\n",
       "\n",
       "    .dataframe thead th {\n",
       "        text-align: right;\n",
       "    }\n",
       "</style>\n",
       "<table border=\"1\" class=\"dataframe\">\n",
       "  <thead>\n",
       "    <tr style=\"text-align: right;\">\n",
       "      <th></th>\n",
       "      <th>Leading Digit</th>\n",
       "      <th>Observed</th>\n",
       "      <th>Benford</th>\n",
       "    </tr>\n",
       "  </thead>\n",
       "  <tbody>\n",
       "    <tr>\n",
       "      <th>0</th>\n",
       "      <td>1</td>\n",
       "      <td>0.280786</td>\n",
       "      <td>0.301030</td>\n",
       "    </tr>\n",
       "    <tr>\n",
       "      <th>1</th>\n",
       "      <td>2</td>\n",
       "      <td>0.177659</td>\n",
       "      <td>0.176091</td>\n",
       "    </tr>\n",
       "    <tr>\n",
       "      <th>2</th>\n",
       "      <td>3</td>\n",
       "      <td>0.117148</td>\n",
       "      <td>0.124939</td>\n",
       "    </tr>\n",
       "    <tr>\n",
       "      <th>3</th>\n",
       "      <td>4</td>\n",
       "      <td>0.094087</td>\n",
       "      <td>0.096910</td>\n",
       "    </tr>\n",
       "    <tr>\n",
       "      <th>4</th>\n",
       "      <td>5</td>\n",
       "      <td>0.073056</td>\n",
       "      <td>0.079181</td>\n",
       "    </tr>\n",
       "    <tr>\n",
       "      <th>5</th>\n",
       "      <td>6</td>\n",
       "      <td>0.063740</td>\n",
       "      <td>0.066947</td>\n",
       "    </tr>\n",
       "    <tr>\n",
       "      <th>6</th>\n",
       "      <td>7</td>\n",
       "      <td>0.052578</td>\n",
       "      <td>0.057992</td>\n",
       "    </tr>\n",
       "    <tr>\n",
       "      <th>7</th>\n",
       "      <td>8</td>\n",
       "      <td>0.046675</td>\n",
       "      <td>0.051153</td>\n",
       "    </tr>\n",
       "    <tr>\n",
       "      <th>8</th>\n",
       "      <td>9</td>\n",
       "      <td>0.039295</td>\n",
       "      <td>0.045757</td>\n",
       "    </tr>\n",
       "  </tbody>\n",
       "</table>\n",
       "</div>"
      ],
      "text/plain": [
       "  Leading Digit  Observed   Benford\n",
       "0             1  0.280786  0.301030\n",
       "1             2  0.177659  0.176091\n",
       "2             3  0.117148  0.124939\n",
       "3             4  0.094087  0.096910\n",
       "4             5  0.073056  0.079181\n",
       "5             6  0.063740  0.066947\n",
       "6             7  0.052578  0.057992\n",
       "7             8  0.046675  0.051153\n",
       "8             9  0.039295  0.045757"
      ]
     },
     "execution_count": 19,
     "metadata": {},
     "output_type": "execute_result"
    }
   ],
   "source": [
    "comparison_df = pd.concat([digit_count_df, expected_df], axis=1)\n",
    "comparison_df"
   ]
  },
  {
   "cell_type": "markdown",
   "id": "5ca4163c-7597-4d8f-a1f5-d214b99c3803",
   "metadata": {},
   "source": [
    "As we can see, our observations on the data follow the expected values of Benford's distribution. But how close is it? What is the edge here? **In statistics, we can determine hoe \"close\" the data is to a distribution using statistical significance tests.** Chi Square test is one of them which is widely used. Let's prepare a Chi-Square test to find out how \"close\" our observation to Benford's distribution. "
   ]
  },
  {
   "cell_type": "code",
   "execution_count": 21,
   "id": "36c5b825-f634-4e2e-b9b0-369611752d9a",
   "metadata": {},
   "outputs": [
    {
     "data": {
      "image/png": "[encoded data removed]",
      "text/plain": [
       "<Figure size 432x288 with 1 Axes>"
      ]
     },
     "metadata": {
      "needs_background": "light"
     },
     "output_type": "display_data"
    }
   ],
   "source": [
    "title = \"Application Ratings compared to Benford's Law\"\n",
    "comparison_df.plot(x=\"Leading Digit\", kind=\"bar\")\n",
    "plt.title(title, fontsize=16, fontweight=\"bold\")\n",
    "plt.xlabel(\"Leading Digit\", fontsize=16)\n",
    "plt.ylabel(\"Proportion\", fontsize=16)\n",
    "plt.xticks(rotation=0)\n",
    "plt.yticks(fontsize=14);"
   ]
  },
  {
   "attachments": {
    "7ce08d2d-1181-408a-a0c3-4bcf4c06cc25.png": {
     "image/png": "[encoded data removed]"
    }
   },
   "cell_type": "markdown",
   "id": "80b98dbc-e549-47bf-a13e-c9ca1bf5c7d1",
   "metadata": {},
   "source": [
    "We will find a Chi Square test score for our critical value to determine if our observation data fit Benford's data which is our expectations (O and E respectively in the formula).\n",
    "\n",
    "![image.png](attachment:7ce08d2d-1181-408a-a0c3-4bcf4c06cc25.png)"
   ]
  },
  {
   "cell_type": "code",
   "execution_count": 22,
   "id": "fbce689d-ac6a-4b1c-ac39-6945233b7744",
   "metadata": {},
   "outputs": [
    {
     "data": {
      "text/plain": [
       "0.0043809164664262"
      ]
     },
     "execution_count": 22,
     "metadata": {},
     "output_type": "execute_result"
    }
   ],
   "source": [
    "\"\"\" Here is the manual implementation of the formula, but you can also use Scipy library to find score.\"\"\"\n",
    "chi_square = 0\n",
    "for index, row in comparison_df.iterrows():\n",
    "    single = (((row[\"Observed\"] - row[\"Benford\"])**2)/row[\"Benford\"])\n",
    "    chi_square = chi_square + single\n",
    "chi_square"
   ]
  },
  {
   "cell_type": "code",
   "execution_count": 24,
   "id": "429d90f9-098f-4827-912e-69c98ec8d2c3",
   "metadata": {},
   "outputs": [
    {
     "data": {
      "text/plain": [
       "'Currently, the code above is throwing some error, will check this some other time'"
      ]
     },
     "execution_count": 24,
     "metadata": {},
     "output_type": "execute_result"
    }
   ],
   "source": [
    "# Implementation of the code using Scipy library\n",
    "# from scipy.stats import chisquare\n",
    "\n",
    "# obs = comparison_df[\"Observed\"].to_list()\n",
    "# exp = comparison_df[\"Benford\"].to_list()\n",
    "# chisquare(obs, f_exp= exp)\n",
    "\"\"\"Currently, the code above is throwing some error, will check this some other time\"\"\""
   ]
  },
  {
   "cell_type": "markdown",
   "id": "7ed292b1-ede0-467b-bee9-41b9269ef838",
   "metadata": {},
   "source": [
    "We need to find the critical value, which is simply the value of X for probability (area under the Probability Distribution Function) that is less than or equal to 0.05 significance level. Any value greater than our critical value of X will cause us to say that we do not have enough information to say that distribution follows Benford's. \n",
    "\n",
    "Using scipy.stats, we can see our critical value. Here df is the degrees of freedom which is (number of categories -1). We set it 8 because we have 9 categories that are leading digits. You can also use Chi Square table to find critical values. "
   ]
  },
  {
   "cell_type": "code",
   "execution_count": 25,
   "id": "504cdcc4-3232-4a36-8bb5-c1969c07059b",
   "metadata": {},
   "outputs": [
    {
     "data": {
      "text/plain": [
       "15.50731305586545"
      ]
     },
     "execution_count": 25,
     "metadata": {},
     "output_type": "execute_result"
    }
   ],
   "source": [
    "import scipy.stats\n",
    "\n",
    "# Chi-Square critical value\n",
    "critical_value = scipy.stats.chi2.ppf(1-.05, df=8)\n",
    "critical_value"
   ]
  },
  {
   "cell_type": "markdown",
   "id": "e68d5bbb-8e34-4717-ad6e-194ecdc75118",
   "metadata": {},
   "source": [
    "Our critical value is 15.507, and our test score is 0.0043, which is way lower than our critical value. So we can accept that our observed data follows Benford's Distribution. The curve below is the critical function of Chi-Square, and the vertical red line is our critical value. Any value of X greater than that value will be rejected because it will be p<0.05."
   ]
  },
  {
   "cell_type": "code",
   "execution_count": 26,
   "id": "1c79e276-fb3e-4a4c-8897-b373d7abb097",
   "metadata": {},
   "outputs": [
    {
     "data": {
      "text/plain": [
       "Text(15.89, 0.045, 'Critical Value')"
      ]
     },
     "execution_count": 26,
     "metadata": {},
     "output_type": "execute_result"
    },
    {
     "data": {
      "image/png": "[encoded data removed]",
      "text/plain": [
       "<Figure size 432x288 with 1 Axes>"
      ]
     },
     "metadata": {
      "needs_background": "light"
     },
     "output_type": "display_data"
    }
   ],
   "source": [
    "import numpy as np\n",
    "import matplotlib.pyplot as plt\n",
    "from scipy.stats import chi2\n",
    "\n",
    "x = np.arange(0,20,0.001)\n",
    "plt.plot(x, chi2.pdf(x, df=8))\n",
    "plt.axvline(x=critical_value, color='r')\n",
    "plt.text(15.89, 0.045, 'Critical Value')"
   ]
  },
  {
   "cell_type": "markdown",
   "id": "2ea38811-789f-458d-bac0-52686e0d42ab",
   "metadata": {},
   "source": [
    "### Conclusion \n",
    "\n",
    "In conlusion, if the data meets the requirements of this test, it can be helpful, especially in the auditing field. For instance, we can test accounting fraud. In the research field, you can audit if randomized numbers are following Benford's Law."
   ]
  },
  {
   "cell_type": "code",
   "execution_count": null,
   "id": "10c25f18-f74b-42a5-ae2b-5f2e75195641",
   "metadata": {},
   "outputs": [],
   "source": []
  }
 ],
 "metadata": {
  "kernelspec": {
   "display_name": "Python 3 (ipykernel)",
   "language": "python",
   "name": "python3"
  },
  "language_info": {
   "codemirror_mode": {
    "name": "ipython",
    "version": 3
   },
   "file_extension": ".py",
   "mimetype": "text/x-python",
   "name": "python",
   "nbconvert_exporter": "python",
   "pygments_lexer": "ipython3",
   "version": "3.9.13"
  }
 },
 "nbformat": 4,
 "nbformat_minor": 5
}
