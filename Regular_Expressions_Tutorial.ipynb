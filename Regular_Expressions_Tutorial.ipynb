{
  "nbformat": 4,
  "nbformat_minor": 0,
  "metadata": {
    "colab": {
      "provenance": [],
      "collapsed_sections": []
    },
    "kernelspec": {
      "name": "python3",
      "display_name": "Python 3"
    },
    "language_info": {
      "name": "python"
    }
  },
  "cells": [
    {
      "cell_type": "code",
      "execution_count": 1,
      "metadata": {
        "id": "fA3S6V46AJPk"
      },
      "outputs": [],
      "source": [
        "import re"
      ]
    },
    {
      "cell_type": "code",
      "source": [
        "test_string = '123abc456789abc123ABC'\n",
        "\n",
        "pattern = re.compile(r\"abc\")\n",
        "matches = pattern.finditer(test_string)"
      ],
      "metadata": {
        "id": "ayDJPX8KAssX"
      },
      "execution_count": 2,
      "outputs": []
    },
    {
      "cell_type": "code",
      "source": [
        "for match in matches:\n",
        "    print(match)"
      ],
      "metadata": {
        "colab": {
          "base_uri": "https://localhost:8080/"
        },
        "id": "JpNWKC9QBYoQ",
        "outputId": "3f699458-e890-43d3-8cc3-014909bdb637"
      },
      "execution_count": 3,
      "outputs": [
        {
          "output_type": "stream",
          "name": "stdout",
          "text": [
            "<re.Match object; span=(3, 6), match='abc'>\n",
            "<re.Match object; span=(12, 15), match='abc'>\n"
          ]
        }
      ]
    },
    {
      "cell_type": "code",
      "source": [
        "# Another way of writing the above code\n",
        "matches = re.finditer(r\"abc\", test_string)\n",
        "for match in matches:\n",
        "    print(match)"
      ],
      "metadata": {
        "colab": {
          "base_uri": "https://localhost:8080/"
        },
        "id": "fdFpzJ6yBfvO",
        "outputId": "a89ac2f9-cfb8-41bc-8d67-424a3af545e0"
      },
      "execution_count": 4,
      "outputs": [
        {
          "output_type": "stream",
          "name": "stdout",
          "text": [
            "<re.Match object; span=(3, 6), match='abc'>\n",
            "<re.Match object; span=(12, 15), match='abc'>\n"
          ]
        }
      ]
    },
    {
      "cell_type": "code",
      "source": [
        "a = \"\\tHello\"\n",
        "b = r\"\\tHello\"\n",
        "print(a, b)"
      ],
      "metadata": {
        "colab": {
          "base_uri": "https://localhost:8080/"
        },
        "id": "SuNBWXsmCCOE",
        "outputId": "de7e01fa-2904-46ba-df3c-982c30fcac20"
      },
      "execution_count": 6,
      "outputs": [
        {
          "output_type": "stream",
          "name": "stdout",
          "text": [
            "\tHello \\tHello\n"
          ]
        }
      ]
    },
    {
      "cell_type": "code",
      "source": [
        "matches = pattern.findall(test_string)"
      ],
      "metadata": {
        "id": "GPFYFjibW_42"
      },
      "execution_count": 7,
      "outputs": []
    },
    {
      "cell_type": "code",
      "source": [
        "# match(), search (), findall()\n",
        "for match in matches:\n",
        "    print(match)"
      ],
      "metadata": {
        "colab": {
          "base_uri": "https://localhost:8080/"
        },
        "id": "x8lOLpEsCUvu",
        "outputId": "60b4da13-4f1d-42ca-ebac-5a5e9d947926"
      },
      "execution_count": 8,
      "outputs": [
        {
          "output_type": "stream",
          "name": "stdout",
          "text": [
            "abc\n",
            "abc\n"
          ]
        }
      ]
    },
    {
      "cell_type": "code",
      "source": [
        "match = pattern.match(test_string)\n",
        "print(match)"
      ],
      "metadata": {
        "colab": {
          "base_uri": "https://localhost:8080/"
        },
        "id": "N4zdL9evXHjF",
        "outputId": "b6ab89d9-e83f-417d-844f-d377597a1c7a"
      },
      "execution_count": 10,
      "outputs": [
        {
          "output_type": "stream",
          "name": "stdout",
          "text": [
            "None\n"
          ]
        }
      ]
    },
    {
      "cell_type": "code",
      "source": [
        "pattern = re.compile(r\"abc\")\n",
        "match = pattern.match(test_string)\n",
        "print(match)"
      ],
      "metadata": {
        "colab": {
          "base_uri": "https://localhost:8080/"
        },
        "id": "UmAsZYCUXc8b",
        "outputId": "0b7bce04-5e20-4cc9-9f2b-604d98032515"
      },
      "execution_count": 11,
      "outputs": [
        {
          "output_type": "stream",
          "name": "stdout",
          "text": [
            "None\n"
          ]
        }
      ]
    },
    {
      "cell_type": "code",
      "source": [
        "pattern = re.compile(r\"abc\")\n",
        "match = pattern.search(test_string)\n",
        "print(match)"
      ],
      "metadata": {
        "colab": {
          "base_uri": "https://localhost:8080/"
        },
        "id": "znyweBF4YH1x",
        "outputId": "30841d95-5474-4491-b38b-8593e11b2d92"
      },
      "execution_count": 12,
      "outputs": [
        {
          "output_type": "stream",
          "name": "stdout",
          "text": [
            "<re.Match object; span=(3, 6), match='abc'>\n"
          ]
        }
      ]
    },
    {
      "cell_type": "code",
      "source": [
        "# match(), search(), findall(), finditer()\n",
        "pattern = re.compile(r\"abc\")\n",
        "matches = pattern.finditer(test_string)\n",
        "for match in matches:\n",
        "    print(match)"
      ],
      "metadata": {
        "colab": {
          "base_uri": "https://localhost:8080/"
        },
        "id": "lD23rX3pYfuu",
        "outputId": "90ded4fb-7ae0-4b2d-da15-7ad547083cf1"
      },
      "execution_count": 13,
      "outputs": [
        {
          "output_type": "stream",
          "name": "stdout",
          "text": [
            "<re.Match object; span=(3, 6), match='abc'>\n",
            "<re.Match object; span=(12, 15), match='abc'>\n"
          ]
        }
      ]
    },
    {
      "cell_type": "code",
      "source": [
        "# group, start, end, span\n",
        "pattern = re.compile(r\"abc\")\n",
        "matches = pattern.finditer(test_string)\n",
        "for match in matches:\n",
        "    print(match.span(), match.start(), match.end())"
      ],
      "metadata": {
        "colab": {
          "base_uri": "https://localhost:8080/"
        },
        "id": "JlMfLDvMZABu",
        "outputId": "d4b80044-359d-4d3a-aa6d-d00e43008bae"
      },
      "execution_count": 17,
      "outputs": [
        {
          "output_type": "stream",
          "name": "stdout",
          "text": [
            "(3, 6) 3 6\n",
            "(12, 15) 12 15\n"
          ]
        }
      ]
    },
    {
      "cell_type": "code",
      "source": [
        "pattern = re.compile(r\"abc\")\n",
        "matches = pattern.finditer(test_string)\n",
        "for match in matches:\n",
        "    print(match.group())"
      ],
      "metadata": {
        "colab": {
          "base_uri": "https://localhost:8080/"
        },
        "id": "QErRoK4OmbqI",
        "outputId": "cf3413db-c168-419c-e68a-74c3ed9e2047"
      },
      "execution_count": 19,
      "outputs": [
        {
          "output_type": "stream",
          "name": "stdout",
          "text": [
            "abc\n",
            "abc\n"
          ]
        }
      ]
    },
    {
      "cell_type": "code",
      "source": [
        "pattern = re.compile(r\".\")\n",
        "matches = pattern.finditer(test_string)\n",
        "for match in matches:\n",
        "    print(match.group())"
      ],
      "metadata": {
        "colab": {
          "base_uri": "https://localhost:8080/"
        },
        "id": "bl34BARvm8NC",
        "outputId": "a28c9624-2398-43a1-ed78-8f2a6083bbc2"
      },
      "execution_count": 20,
      "outputs": [
        {
          "output_type": "stream",
          "name": "stdout",
          "text": [
            "1\n",
            "2\n",
            "3\n",
            "a\n",
            "b\n",
            "c\n",
            "4\n",
            "5\n",
            "6\n",
            "7\n",
            "8\n",
            "9\n",
            "a\n",
            "b\n",
            "c\n",
            "1\n",
            "2\n",
            "3\n",
            "A\n",
            "B\n",
            "C\n"
          ]
        }
      ]
    },
    {
      "cell_type": "code",
      "source": [
        "test_string = '123abc456789abc123ABC.'\n",
        "pattern = re.compile(r\"\\.\")\n",
        "matches = pattern.finditer(test_string)\n",
        "for match in matches:\n",
        "    print(match.group())"
      ],
      "metadata": {
        "colab": {
          "base_uri": "https://localhost:8080/"
        },
        "id": "8ogwvG5bn423",
        "outputId": "81b68d3d-7149-4b44-c500-ba6922c85d46"
      },
      "execution_count": 22,
      "outputs": [
        {
          "output_type": "stream",
          "name": "stdout",
          "text": [
            ".\n"
          ]
        }
      ]
    },
    {
      "cell_type": "code",
      "source": [
        "test_string = '123abc456789abc123ABC.'\n",
        "pattern = re.compile(r\"^123\") # 123 present in the beginning, hence returns  \n",
        "matches = pattern.finditer(test_string)\n",
        "for match in matches:\n",
        "    print(match.group())"
      ],
      "metadata": {
        "colab": {
          "base_uri": "https://localhost:8080/"
        },
        "id": "u1ow_hFHn8X0",
        "outputId": "9b4abd93-bd9c-459f-f5c3-e5005b399f0c"
      },
      "execution_count": 23,
      "outputs": [
        {
          "output_type": "stream",
          "name": "stdout",
          "text": [
            "123\n"
          ]
        }
      ]
    },
    {
      "cell_type": "code",
      "source": [
        "test_string = '123abc456789abc123ABC.'\n",
        "pattern = re.compile(r\"^abc\")  # abc not present in the beginning, hence does not return anything\n",
        "matches = pattern.finditer(test_string)\n",
        "for match in matches:\n",
        "    print(match.group())"
      ],
      "metadata": {
        "id": "BUEWBAq3oebc"
      },
      "execution_count": 25,
      "outputs": []
    },
    {
      "cell_type": "code",
      "source": [
        "test_string = '123abc456789abc123ABC'\n",
        "pattern = re.compile(r\"abc$\")  \n",
        "matches = pattern.finditer(test_string)\n",
        "for match in matches:\n",
        "    print(match.group())"
      ],
      "metadata": {
        "id": "mHoCvnF6ojgM"
      },
      "execution_count": 28,
      "outputs": []
    },
    {
      "cell_type": "code",
      "source": [
        "test_string = '123abc456789abc123ABC'\n",
        "pattern = re.compile(r\"ABC$\")  \n",
        "matches = pattern.finditer(test_string)\n",
        "for match in matches:\n",
        "    print(match.group())"
      ],
      "metadata": {
        "colab": {
          "base_uri": "https://localhost:8080/"
        },
        "id": "psX3lC1xpN1D",
        "outputId": "93f14799-6ac9-46ea-b190-038143539209"
      },
      "execution_count": 29,
      "outputs": [
        {
          "output_type": "stream",
          "name": "stdout",
          "text": [
            "ABC\n"
          ]
        }
      ]
    },
    {
      "cell_type": "code",
      "source": [
        "test_string = 'hello 123_ heyho hohey'\n",
        "pattern = re.compile(r\"\\d\")  \n",
        "matches = pattern.finditer(test_string)\n",
        "for match in matches:\n",
        "    print(match)"
      ],
      "metadata": {
        "colab": {
          "base_uri": "https://localhost:8080/"
        },
        "id": "Yhn9Jm3vpTTi",
        "outputId": "00a2cecc-2e32-4611-c021-2e363c3e13d5"
      },
      "execution_count": 30,
      "outputs": [
        {
          "output_type": "stream",
          "name": "stdout",
          "text": [
            "<re.Match object; span=(6, 7), match='1'>\n",
            "<re.Match object; span=(7, 8), match='2'>\n",
            "<re.Match object; span=(8, 9), match='3'>\n"
          ]
        }
      ]
    },
    {
      "cell_type": "code",
      "source": [
        "test_string = 'hello 123_ heyho hohey'\n",
        "pattern = re.compile(r\"\\D\")  \n",
        "matches = pattern.finditer(test_string)\n",
        "for match in matches:\n",
        "    print(match)"
      ],
      "metadata": {
        "colab": {
          "base_uri": "https://localhost:8080/"
        },
        "id": "BqCA5QUtsZq5",
        "outputId": "2cfd578b-7668-4427-9112-964b8329498a"
      },
      "execution_count": 31,
      "outputs": [
        {
          "output_type": "stream",
          "name": "stdout",
          "text": [
            "<re.Match object; span=(0, 1), match='h'>\n",
            "<re.Match object; span=(1, 2), match='e'>\n",
            "<re.Match object; span=(2, 3), match='l'>\n",
            "<re.Match object; span=(3, 4), match='l'>\n",
            "<re.Match object; span=(4, 5), match='o'>\n",
            "<re.Match object; span=(5, 6), match=' '>\n",
            "<re.Match object; span=(9, 10), match='_'>\n",
            "<re.Match object; span=(10, 11), match=' '>\n",
            "<re.Match object; span=(11, 12), match='h'>\n",
            "<re.Match object; span=(12, 13), match='e'>\n",
            "<re.Match object; span=(13, 14), match='y'>\n",
            "<re.Match object; span=(14, 15), match='h'>\n",
            "<re.Match object; span=(15, 16), match='o'>\n",
            "<re.Match object; span=(16, 17), match=' '>\n",
            "<re.Match object; span=(17, 18), match='h'>\n",
            "<re.Match object; span=(18, 19), match='o'>\n",
            "<re.Match object; span=(19, 20), match='h'>\n",
            "<re.Match object; span=(20, 21), match='e'>\n",
            "<re.Match object; span=(21, 22), match='y'>\n"
          ]
        }
      ]
    },
    {
      "cell_type": "code",
      "source": [
        "test_string = 'hello 123_ heyho hohey'\n",
        "pattern = re.compile(r\"\\s\")  \n",
        "matches = pattern.finditer(test_string)\n",
        "for match in matches:\n",
        "    print(match)"
      ],
      "metadata": {
        "colab": {
          "base_uri": "https://localhost:8080/"
        },
        "id": "86bEVMPAspRB",
        "outputId": "cda8a82c-8b60-42fe-f4ba-770bb6bfb597"
      },
      "execution_count": 32,
      "outputs": [
        {
          "output_type": "stream",
          "name": "stdout",
          "text": [
            "<re.Match object; span=(5, 6), match=' '>\n",
            "<re.Match object; span=(10, 11), match=' '>\n",
            "<re.Match object; span=(16, 17), match=' '>\n"
          ]
        }
      ]
    },
    {
      "cell_type": "code",
      "source": [
        "test_string = 'hello 123_ heyho hohey'\n",
        "pattern = re.compile(r\"\\S\")  \n",
        "matches = pattern.finditer(test_string)\n",
        "for match in matches:\n",
        "    print(match)"
      ],
      "metadata": {
        "colab": {
          "base_uri": "https://localhost:8080/"
        },
        "id": "RasyNhOEuScV",
        "outputId": "29f31d52-5124-41d3-da48-af2d695d51bc"
      },
      "execution_count": 33,
      "outputs": [
        {
          "output_type": "stream",
          "name": "stdout",
          "text": [
            "<re.Match object; span=(0, 1), match='h'>\n",
            "<re.Match object; span=(1, 2), match='e'>\n",
            "<re.Match object; span=(2, 3), match='l'>\n",
            "<re.Match object; span=(3, 4), match='l'>\n",
            "<re.Match object; span=(4, 5), match='o'>\n",
            "<re.Match object; span=(6, 7), match='1'>\n",
            "<re.Match object; span=(7, 8), match='2'>\n",
            "<re.Match object; span=(8, 9), match='3'>\n",
            "<re.Match object; span=(9, 10), match='_'>\n",
            "<re.Match object; span=(11, 12), match='h'>\n",
            "<re.Match object; span=(12, 13), match='e'>\n",
            "<re.Match object; span=(13, 14), match='y'>\n",
            "<re.Match object; span=(14, 15), match='h'>\n",
            "<re.Match object; span=(15, 16), match='o'>\n",
            "<re.Match object; span=(17, 18), match='h'>\n",
            "<re.Match object; span=(18, 19), match='o'>\n",
            "<re.Match object; span=(19, 20), match='h'>\n",
            "<re.Match object; span=(20, 21), match='e'>\n",
            "<re.Match object; span=(21, 22), match='y'>\n"
          ]
        }
      ]
    },
    {
      "cell_type": "code",
      "source": [
        "test_string = 'hello 123_ heyho hohey'\n",
        "pattern = re.compile(r\"\\w\")  \n",
        "matches = pattern.finditer(test_string)\n",
        "for match in matches:\n",
        "    print(match)"
      ],
      "metadata": {
        "colab": {
          "base_uri": "https://localhost:8080/"
        },
        "id": "qMAyL0VcuYk8",
        "outputId": "1b1bdb91-f140-4139-8b50-040bd83aae84"
      },
      "execution_count": 34,
      "outputs": [
        {
          "output_type": "stream",
          "name": "stdout",
          "text": [
            "<re.Match object; span=(0, 1), match='h'>\n",
            "<re.Match object; span=(1, 2), match='e'>\n",
            "<re.Match object; span=(2, 3), match='l'>\n",
            "<re.Match object; span=(3, 4), match='l'>\n",
            "<re.Match object; span=(4, 5), match='o'>\n",
            "<re.Match object; span=(6, 7), match='1'>\n",
            "<re.Match object; span=(7, 8), match='2'>\n",
            "<re.Match object; span=(8, 9), match='3'>\n",
            "<re.Match object; span=(9, 10), match='_'>\n",
            "<re.Match object; span=(11, 12), match='h'>\n",
            "<re.Match object; span=(12, 13), match='e'>\n",
            "<re.Match object; span=(13, 14), match='y'>\n",
            "<re.Match object; span=(14, 15), match='h'>\n",
            "<re.Match object; span=(15, 16), match='o'>\n",
            "<re.Match object; span=(17, 18), match='h'>\n",
            "<re.Match object; span=(18, 19), match='o'>\n",
            "<re.Match object; span=(19, 20), match='h'>\n",
            "<re.Match object; span=(20, 21), match='e'>\n",
            "<re.Match object; span=(21, 22), match='y'>\n"
          ]
        }
      ]
    },
    {
      "cell_type": "code",
      "source": [
        "test_string = 'hello 123_ heyho hohey'\n",
        "pattern = re.compile(r\"\\W\")  \n",
        "matches = pattern.finditer(test_string)\n",
        "for match in matches:\n",
        "    print(match)"
      ],
      "metadata": {
        "colab": {
          "base_uri": "https://localhost:8080/"
        },
        "id": "QLfY-krzujih",
        "outputId": "8e2f5503-3c79-4f28-eb09-4448458267c1"
      },
      "execution_count": 35,
      "outputs": [
        {
          "output_type": "stream",
          "name": "stdout",
          "text": [
            "<re.Match object; span=(5, 6), match=' '>\n",
            "<re.Match object; span=(10, 11), match=' '>\n",
            "<re.Match object; span=(16, 17), match=' '>\n"
          ]
        }
      ]
    },
    {
      "cell_type": "code",
      "source": [
        "test_string = 'hello 123_ heyho hohey'\n",
        "pattern = re.compile(r\"\\bhello\")  \n",
        "matches = pattern.finditer(test_string)\n",
        "for match in matches:\n",
        "    print(match)"
      ],
      "metadata": {
        "colab": {
          "base_uri": "https://localhost:8080/"
        },
        "id": "LUo106wOumaR",
        "outputId": "56c00eb5-405e-46ef-d346-f67424ba5918"
      },
      "execution_count": 36,
      "outputs": [
        {
          "output_type": "stream",
          "name": "stdout",
          "text": [
            "<re.Match object; span=(0, 5), match='hello'>\n"
          ]
        }
      ]
    },
    {
      "cell_type": "code",
      "source": [
        "test_string = 'hello 123_ heyho hohey'\n",
        "pattern = re.compile(r\"\\bhey\")  # finds matching characters in the beginning of a block, not from any other position\n",
        "matches = pattern.finditer(test_string)\n",
        "for match in matches:\n",
        "    print(match)"
      ],
      "metadata": {
        "colab": {
          "base_uri": "https://localhost:8080/"
        },
        "id": "R6BE_So1uw7K",
        "outputId": "27304145-631b-43e3-92f6-abb297acbe91"
      },
      "execution_count": 37,
      "outputs": [
        {
          "output_type": "stream",
          "name": "stdout",
          "text": [
            "<re.Match object; span=(11, 14), match='hey'>\n"
          ]
        }
      ]
    },
    {
      "cell_type": "code",
      "source": [
        "test_string = 'hello 123_ heyho hey'\n",
        "pattern = re.compile(r\"\\bhey\")  # finds matching characters in the beginning of a block, not from any other position\n",
        "matches = pattern.finditer(test_string)\n",
        "for match in matches:\n",
        "    print(match)"
      ],
      "metadata": {
        "colab": {
          "base_uri": "https://localhost:8080/"
        },
        "id": "IuzZ-4FKu6QL",
        "outputId": "f2a3165c-2e17-4295-9c33-0c26cf5ab831"
      },
      "execution_count": 38,
      "outputs": [
        {
          "output_type": "stream",
          "name": "stdout",
          "text": [
            "<re.Match object; span=(11, 14), match='hey'>\n",
            "<re.Match object; span=(17, 20), match='hey'>\n"
          ]
        }
      ]
    },
    {
      "cell_type": "code",
      "source": [
        "test_string = 'hello 123_ heyho hohey'\n",
        "pattern = re.compile(r\"\\Bhey\")  # finds matching characters that are no in the beginning of a block\n",
        "matches = pattern.finditer(test_string)\n",
        "for match in matches:\n",
        "    print(match)"
      ],
      "metadata": {
        "colab": {
          "base_uri": "https://localhost:8080/"
        },
        "id": "1fkSPIE7vK4T",
        "outputId": "1f62b5f3-fc05-4cf3-a48d-3e80ddf314cd"
      },
      "execution_count": 40,
      "outputs": [
        {
          "output_type": "stream",
          "name": "stdout",
          "text": [
            "<re.Match object; span=(19, 22), match='hey'>\n"
          ]
        }
      ]
    },
    {
      "cell_type": "markdown",
      "source": [
        "### Sets"
      ],
      "metadata": {
        "id": "TKmPB-s_vTSS"
      }
    },
    {
      "cell_type": "code",
      "source": [
        "test_string = 'hello 123_'\n",
        "pattern = re.compile(r\"[lo]\")  \n",
        "matches = pattern.finditer(test_string)\n",
        "for match in matches:\n",
        "    print(match)"
      ],
      "metadata": {
        "colab": {
          "base_uri": "https://localhost:8080/"
        },
        "id": "RZB3W7Hzx1rz",
        "outputId": "7afa21c5-2c81-484e-f45b-ee755a0343fe"
      },
      "execution_count": 42,
      "outputs": [
        {
          "output_type": "stream",
          "name": "stdout",
          "text": [
            "<re.Match object; span=(2, 3), match='l'>\n",
            "<re.Match object; span=(3, 4), match='l'>\n",
            "<re.Match object; span=(4, 5), match='o'>\n"
          ]
        }
      ]
    },
    {
      "cell_type": "code",
      "source": [
        "test_string = 'hello 123_'\n",
        "pattern = re.compile(r\"[helo]\")  \n",
        "matches = pattern.finditer(test_string)\n",
        "for match in matches:\n",
        "    print(match)"
      ],
      "metadata": {
        "colab": {
          "base_uri": "https://localhost:8080/"
        },
        "id": "K8ganVQ8yI3h",
        "outputId": "c1bef5b4-5014-415c-af81-b7f08f3718dc"
      },
      "execution_count": 43,
      "outputs": [
        {
          "output_type": "stream",
          "name": "stdout",
          "text": [
            "<re.Match object; span=(0, 1), match='h'>\n",
            "<re.Match object; span=(1, 2), match='e'>\n",
            "<re.Match object; span=(2, 3), match='l'>\n",
            "<re.Match object; span=(3, 4), match='l'>\n",
            "<re.Match object; span=(4, 5), match='o'>\n"
          ]
        }
      ]
    },
    {
      "cell_type": "code",
      "source": [
        "test_string = 'hello 123_'\n",
        "pattern = re.compile(r\"[a-z]\")  \n",
        "matches = pattern.finditer(test_string)\n",
        "for match in matches:\n",
        "    print(match)"
      ],
      "metadata": {
        "colab": {
          "base_uri": "https://localhost:8080/"
        },
        "id": "ML4XzRnmyVNU",
        "outputId": "6fdae5dc-f90d-4d65-ad24-9aa38b5bdeb1"
      },
      "execution_count": 44,
      "outputs": [
        {
          "output_type": "stream",
          "name": "stdout",
          "text": [
            "<re.Match object; span=(0, 1), match='h'>\n",
            "<re.Match object; span=(1, 2), match='e'>\n",
            "<re.Match object; span=(2, 3), match='l'>\n",
            "<re.Match object; span=(3, 4), match='l'>\n",
            "<re.Match object; span=(4, 5), match='o'>\n"
          ]
        }
      ]
    },
    {
      "cell_type": "code",
      "source": [
        "test_string = 'hello 123_'\n",
        "pattern = re.compile(r\"[23]\")  \n",
        "matches = pattern.finditer(test_string)\n",
        "for match in matches:\n",
        "    print(match)"
      ],
      "metadata": {
        "colab": {
          "base_uri": "https://localhost:8080/"
        },
        "id": "B_5jjgtfydhf",
        "outputId": "4c530243-5ec1-4b46-94b0-4634595873fd"
      },
      "execution_count": 45,
      "outputs": [
        {
          "output_type": "stream",
          "name": "stdout",
          "text": [
            "<re.Match object; span=(7, 8), match='2'>\n",
            "<re.Match object; span=(8, 9), match='3'>\n"
          ]
        }
      ]
    },
    {
      "cell_type": "code",
      "source": [
        "test_string = 'hello 123_'\n",
        "pattern = re.compile(r\"[0-9]\")  # - used to define range\n",
        "matches = pattern.finditer(test_string)\n",
        "for match in matches:\n",
        "    print(match)"
      ],
      "metadata": {
        "colab": {
          "base_uri": "https://localhost:8080/"
        },
        "id": "9uCQfMEOykdn",
        "outputId": "1562c80f-4560-40e1-b027-f6f37e7a21e2"
      },
      "execution_count": 46,
      "outputs": [
        {
          "output_type": "stream",
          "name": "stdout",
          "text": [
            "<re.Match object; span=(6, 7), match='1'>\n",
            "<re.Match object; span=(7, 8), match='2'>\n",
            "<re.Match object; span=(8, 9), match='3'>\n"
          ]
        }
      ]
    },
    {
      "cell_type": "code",
      "source": [
        "test_string = 'hello 123-_'\n",
        "pattern = re.compile(r\"[0-9-]\")  \n",
        "matches = pattern.finditer(test_string)\n",
        "for match in matches:\n",
        "    print(match)"
      ],
      "metadata": {
        "colab": {
          "base_uri": "https://localhost:8080/"
        },
        "id": "lgHFYL_Pyso6",
        "outputId": "53711533-ce3f-4207-8f39-9ced77c2863d"
      },
      "execution_count": 49,
      "outputs": [
        {
          "output_type": "stream",
          "name": "stdout",
          "text": [
            "<re.Match object; span=(6, 7), match='1'>\n",
            "<re.Match object; span=(7, 8), match='2'>\n",
            "<re.Match object; span=(8, 9), match='3'>\n",
            "<re.Match object; span=(9, 10), match='-'>\n"
          ]
        }
      ]
    },
    {
      "cell_type": "code",
      "source": [
        "test_string = 'helloHELLO 123-_'\n",
        "pattern = re.compile(r\"[a-zA-Z]\")  \n",
        "matches = pattern.finditer(test_string)\n",
        "for match in matches:\n",
        "    print(match)"
      ],
      "metadata": {
        "colab": {
          "base_uri": "https://localhost:8080/"
        },
        "id": "IU5Rd6X1y4QP",
        "outputId": "d1e2c95a-c24a-474f-f3f6-94335b145e85"
      },
      "execution_count": 50,
      "outputs": [
        {
          "output_type": "stream",
          "name": "stdout",
          "text": [
            "<re.Match object; span=(0, 1), match='h'>\n",
            "<re.Match object; span=(1, 2), match='e'>\n",
            "<re.Match object; span=(2, 3), match='l'>\n",
            "<re.Match object; span=(3, 4), match='l'>\n",
            "<re.Match object; span=(4, 5), match='o'>\n",
            "<re.Match object; span=(5, 6), match='H'>\n",
            "<re.Match object; span=(6, 7), match='E'>\n",
            "<re.Match object; span=(7, 8), match='L'>\n",
            "<re.Match object; span=(8, 9), match='L'>\n",
            "<re.Match object; span=(9, 10), match='O'>\n"
          ]
        }
      ]
    },
    {
      "cell_type": "code",
      "source": [
        "test_string = 'helloHELLO 123-_'\n",
        "pattern = re.compile(r\"[a-zA-Z0-9]\")  \n",
        "matches = pattern.finditer(test_string)\n",
        "for match in matches:\n",
        "    print(match)"
      ],
      "metadata": {
        "colab": {
          "base_uri": "https://localhost:8080/"
        },
        "id": "8P_fvkFDzQbj",
        "outputId": "55a40627-c34c-4cad-ad4c-9a159f675857"
      },
      "execution_count": 51,
      "outputs": [
        {
          "output_type": "stream",
          "name": "stdout",
          "text": [
            "<re.Match object; span=(0, 1), match='h'>\n",
            "<re.Match object; span=(1, 2), match='e'>\n",
            "<re.Match object; span=(2, 3), match='l'>\n",
            "<re.Match object; span=(3, 4), match='l'>\n",
            "<re.Match object; span=(4, 5), match='o'>\n",
            "<re.Match object; span=(5, 6), match='H'>\n",
            "<re.Match object; span=(6, 7), match='E'>\n",
            "<re.Match object; span=(7, 8), match='L'>\n",
            "<re.Match object; span=(8, 9), match='L'>\n",
            "<re.Match object; span=(9, 10), match='O'>\n",
            "<re.Match object; span=(11, 12), match='1'>\n",
            "<re.Match object; span=(12, 13), match='2'>\n",
            "<re.Match object; span=(13, 14), match='3'>\n"
          ]
        }
      ]
    },
    {
      "cell_type": "code",
      "source": [
        "test_string = 'hello_123'\n",
        "pattern = re.compile(r\"\\d\")  \n",
        "matches = pattern.finditer(test_string)\n",
        "for match in matches:\n",
        "    print(match)"
      ],
      "metadata": {
        "colab": {
          "base_uri": "https://localhost:8080/"
        },
        "id": "iEHeiJBkzVZi",
        "outputId": "cdd4131c-e85b-4635-9f30-74d906976929"
      },
      "execution_count": 52,
      "outputs": [
        {
          "output_type": "stream",
          "name": "stdout",
          "text": [
            "<re.Match object; span=(6, 7), match='1'>\n",
            "<re.Match object; span=(7, 8), match='2'>\n",
            "<re.Match object; span=(8, 9), match='3'>\n"
          ]
        }
      ]
    },
    {
      "cell_type": "code",
      "source": [
        "test_string = 'hello_123'\n",
        "pattern = re.compile(r\"\\d*\")  \n",
        "matches = pattern.finditer(test_string)\n",
        "for match in matches:\n",
        "    print(match)"
      ],
      "metadata": {
        "colab": {
          "base_uri": "https://localhost:8080/"
        },
        "id": "k4hiiu4Qz0d7",
        "outputId": "b650c3bf-ada7-4041-b4c6-c4720e9595f4"
      },
      "execution_count": 53,
      "outputs": [
        {
          "output_type": "stream",
          "name": "stdout",
          "text": [
            "<re.Match object; span=(0, 0), match=''>\n",
            "<re.Match object; span=(1, 1), match=''>\n",
            "<re.Match object; span=(2, 2), match=''>\n",
            "<re.Match object; span=(3, 3), match=''>\n",
            "<re.Match object; span=(4, 4), match=''>\n",
            "<re.Match object; span=(5, 5), match=''>\n",
            "<re.Match object; span=(6, 9), match='123'>\n",
            "<re.Match object; span=(9, 9), match=''>\n"
          ]
        }
      ]
    },
    {
      "cell_type": "code",
      "source": [
        "test_string = 'hello_123'\n",
        "pattern = re.compile(r\"\\d+\")  \n",
        "matches = pattern.finditer(test_string)\n",
        "for match in matches:\n",
        "    print(match)"
      ],
      "metadata": {
        "colab": {
          "base_uri": "https://localhost:8080/"
        },
        "id": "iV6ZjZ3Cz64K",
        "outputId": "046717f6-69f6-4f03-ab36-29c4369adf9d"
      },
      "execution_count": 54,
      "outputs": [
        {
          "output_type": "stream",
          "name": "stdout",
          "text": [
            "<re.Match object; span=(6, 9), match='123'>\n"
          ]
        }
      ]
    },
    {
      "cell_type": "code",
      "source": [
        "test_string = 'hello_123'\n",
        "pattern = re.compile(r\"_\\d\")  \n",
        "matches = pattern.finditer(test_string)\n",
        "for match in matches:\n",
        "    print(match)"
      ],
      "metadata": {
        "colab": {
          "base_uri": "https://localhost:8080/"
        },
        "id": "_Jyg3eal0J0-",
        "outputId": "dba4a578-6ca0-4d56-aa29-ee97615c460b"
      },
      "execution_count": 55,
      "outputs": [
        {
          "output_type": "stream",
          "name": "stdout",
          "text": [
            "<re.Match object; span=(5, 7), match='_1'>\n"
          ]
        }
      ]
    },
    {
      "cell_type": "code",
      "source": [
        "test_string = 'hello123'\n",
        "pattern = re.compile(r\"_\\d\")  \n",
        "matches = pattern.finditer(test_string)\n",
        "for match in matches:\n",
        "    print(match)"
      ],
      "metadata": {
        "id": "QQLZxl4r0TPk"
      },
      "execution_count": 56,
      "outputs": []
    },
    {
      "cell_type": "code",
      "source": [
        "test_string = 'hello123'\n",
        "pattern = re.compile(r\"_?\\d\")  \n",
        "matches = pattern.finditer(test_string)\n",
        "for match in matches:\n",
        "    print(match)"
      ],
      "metadata": {
        "colab": {
          "base_uri": "https://localhost:8080/"
        },
        "id": "1fd5MM6I0aE-",
        "outputId": "20ad52b2-0b82-4c51-812a-75d08a2e49f6"
      },
      "execution_count": 58,
      "outputs": [
        {
          "output_type": "stream",
          "name": "stdout",
          "text": [
            "<re.Match object; span=(5, 6), match='1'>\n",
            "<re.Match object; span=(6, 7), match='2'>\n",
            "<re.Match object; span=(7, 8), match='3'>\n"
          ]
        }
      ]
    },
    {
      "cell_type": "code",
      "source": [
        "test_string = 'hello_1_2_3'\n",
        "pattern = re.compile(r\"_?\\d\")  \n",
        "matches = pattern.finditer(test_string)\n",
        "for match in matches:\n",
        "    print(match)"
      ],
      "metadata": {
        "colab": {
          "base_uri": "https://localhost:8080/"
        },
        "id": "2J91IBiz0dFG",
        "outputId": "d8bcc9aa-690c-46af-91ed-9f130273382b"
      },
      "execution_count": 59,
      "outputs": [
        {
          "output_type": "stream",
          "name": "stdout",
          "text": [
            "<re.Match object; span=(5, 7), match='_1'>\n",
            "<re.Match object; span=(7, 9), match='_2'>\n",
            "<re.Match object; span=(9, 11), match='_3'>\n"
          ]
        }
      ]
    },
    {
      "cell_type": "code",
      "source": [
        "test_string = 'hello_123'\n",
        "pattern = re.compile(r\"\\d{3}\")  \n",
        "matches = pattern.finditer(test_string)\n",
        "for match in matches:\n",
        "    print(match)"
      ],
      "metadata": {
        "colab": {
          "base_uri": "https://localhost:8080/"
        },
        "id": "jLC1lG_v0oZI",
        "outputId": "b11236d1-cc42-4a8e-cee6-1f3026be0936"
      },
      "execution_count": 60,
      "outputs": [
        {
          "output_type": "stream",
          "name": "stdout",
          "text": [
            "<re.Match object; span=(6, 9), match='123'>\n"
          ]
        }
      ]
    },
    {
      "cell_type": "code",
      "source": [
        "test_string = 'hello_123'\n",
        "pattern = re.compile(r\"\\d{4}\")  \n",
        "matches = pattern.finditer(test_string)\n",
        "for match in matches:\n",
        "    print(match)"
      ],
      "metadata": {
        "id": "bryIcRkD00hm"
      },
      "execution_count": 61,
      "outputs": []
    },
    {
      "cell_type": "code",
      "source": [
        "test_string = 'hello_123'\n",
        "pattern = re.compile(r\"\\d{1,3}\")  \n",
        "matches = pattern.finditer(test_string)\n",
        "for match in matches:\n",
        "    print(match)"
      ],
      "metadata": {
        "colab": {
          "base_uri": "https://localhost:8080/"
        },
        "id": "ln74zz6H05Gk",
        "outputId": "b18467f4-d406-46f6-a94c-eefab3ac63fb"
      },
      "execution_count": 64,
      "outputs": [
        {
          "output_type": "stream",
          "name": "stdout",
          "text": [
            "<re.Match object; span=(6, 9), match='123'>\n"
          ]
        }
      ]
    },
    {
      "cell_type": "code",
      "source": [
        "test_string = 'hello_123'\n",
        "pattern = re.compile(r\"\\d{1,4}\")  \n",
        "matches = pattern.finditer(test_string)\n",
        "for match in matches:\n",
        "    print(match)"
      ],
      "metadata": {
        "colab": {
          "base_uri": "https://localhost:8080/"
        },
        "id": "LcjI3LEv0_sb",
        "outputId": "e84ec698-cb88-42dc-fb0e-c29e33864349"
      },
      "execution_count": 65,
      "outputs": [
        {
          "output_type": "stream",
          "name": "stdout",
          "text": [
            "<re.Match object; span=(6, 9), match='123'>\n"
          ]
        }
      ]
    },
    {
      "cell_type": "code",
      "source": [
        "dates = '''\n",
        "01.04.2020\n",
        "hello\n",
        "\n",
        "2020.04.01\n",
        "\n",
        "2020-04-01\n",
        "2020-05-23\n",
        "2020-06-11\n",
        "2020-07-11\n",
        "2020-08-11\n",
        "\n",
        "2020/04/02\n",
        "\n",
        "2020_04_04\n",
        "2020_04_04\n",
        "'''"
      ],
      "metadata": {
        "id": "HtCvpiSI1FPc"
      },
      "execution_count": 67,
      "outputs": []
    },
    {
      "cell_type": "code",
      "source": [
        "pattern = re.compile(r'\\d\\d\\d\\d.\\d\\d.\\d\\d')  \n",
        "matches = pattern.finditer(dates)\n",
        "for match in matches:\n",
        "    print(match)"
      ],
      "metadata": {
        "colab": {
          "base_uri": "https://localhost:8080/"
        },
        "id": "1iD7KjWD1Zep",
        "outputId": "10f5914b-0271-4722-aeb7-240f21f3b4af"
      },
      "execution_count": 68,
      "outputs": [
        {
          "output_type": "stream",
          "name": "stdout",
          "text": [
            "<re.Match object; span=(19, 29), match='2020.04.01'>\n",
            "<re.Match object; span=(31, 41), match='2020-04-01'>\n",
            "<re.Match object; span=(42, 52), match='2020-05-23'>\n",
            "<re.Match object; span=(53, 63), match='2020-06-11'>\n",
            "<re.Match object; span=(64, 74), match='2020-07-11'>\n",
            "<re.Match object; span=(75, 85), match='2020-08-11'>\n",
            "<re.Match object; span=(87, 97), match='2020/04/02'>\n",
            "<re.Match object; span=(99, 109), match='2020_04_04'>\n",
            "<re.Match object; span=(110, 120), match='2020_04_04'>\n"
          ]
        }
      ]
    },
    {
      "cell_type": "code",
      "source": [
        "pattern = re.compile(r'\\d\\d\\d\\d-\\d\\d-\\d\\d')  \n",
        "matches = pattern.finditer(dates)\n",
        "for match in matches:\n",
        "    print(match)"
      ],
      "metadata": {
        "colab": {
          "base_uri": "https://localhost:8080/"
        },
        "id": "zG5B8Xq519b7",
        "outputId": "b09eadc6-bdcb-4b24-a984-3e3af59b6bab"
      },
      "execution_count": 69,
      "outputs": [
        {
          "output_type": "stream",
          "name": "stdout",
          "text": [
            "<re.Match object; span=(31, 41), match='2020-04-01'>\n",
            "<re.Match object; span=(42, 52), match='2020-05-23'>\n",
            "<re.Match object; span=(53, 63), match='2020-06-11'>\n",
            "<re.Match object; span=(64, 74), match='2020-07-11'>\n",
            "<re.Match object; span=(75, 85), match='2020-08-11'>\n"
          ]
        }
      ]
    },
    {
      "cell_type": "code",
      "source": [
        "pattern = re.compile(r'\\d\\d\\d\\d[-/]\\d\\d[-/]\\d\\d')  \n",
        "matches = pattern.finditer(dates)\n",
        "for match in matches:\n",
        "    print(match)"
      ],
      "metadata": {
        "colab": {
          "base_uri": "https://localhost:8080/"
        },
        "id": "ITZFBBMJ2SAm",
        "outputId": "90850ca6-b3c7-4cd3-bebd-4e981b4f69b3"
      },
      "execution_count": 70,
      "outputs": [
        {
          "output_type": "stream",
          "name": "stdout",
          "text": [
            "<re.Match object; span=(31, 41), match='2020-04-01'>\n",
            "<re.Match object; span=(42, 52), match='2020-05-23'>\n",
            "<re.Match object; span=(53, 63), match='2020-06-11'>\n",
            "<re.Match object; span=(64, 74), match='2020-07-11'>\n",
            "<re.Match object; span=(75, 85), match='2020-08-11'>\n",
            "<re.Match object; span=(87, 97), match='2020/04/02'>\n"
          ]
        }
      ]
    },
    {
      "cell_type": "code",
      "source": [
        "dates = '''\n",
        "01.04.2020\n",
        "hello\n",
        "\n",
        "2020.04.01\n",
        "\n",
        "2020-04-01\n",
        "2020-05-23\n",
        "2020-06-11\n",
        "2020-07-11\n",
        "2020-08-11\n",
        "\n",
        "2020/04/02\n",
        "\n",
        "2020_04_04\n",
        "2020_04_04\n",
        "'''"
      ],
      "metadata": {
        "id": "-skuR5jY2oNr"
      },
      "execution_count": 71,
      "outputs": []
    },
    {
      "cell_type": "code",
      "source": [
        "pattern = re.compile(r'\\d\\d\\d\\d[-/]0[56][-/]\\d\\d')  \n",
        "matches = pattern.finditer(dates)\n",
        "for match in matches:\n",
        "    print(match)"
      ],
      "metadata": {
        "colab": {
          "base_uri": "https://localhost:8080/"
        },
        "id": "pYrkTZLd22LL",
        "outputId": "d048e2c1-8edc-455a-e3e0-168e3360e39e"
      },
      "execution_count": 73,
      "outputs": [
        {
          "output_type": "stream",
          "name": "stdout",
          "text": [
            "<re.Match object; span=(42, 52), match='2020-05-23'>\n",
            "<re.Match object; span=(53, 63), match='2020-06-11'>\n"
          ]
        }
      ]
    },
    {
      "cell_type": "code",
      "source": [
        "pattern = re.compile(r'\\d\\d\\d\\d[-/]0[5-7][-/]\\d\\d')  \n",
        "matches = pattern.finditer(dates)\n",
        "for match in matches:\n",
        "    print(match)"
      ],
      "metadata": {
        "colab": {
          "base_uri": "https://localhost:8080/"
        },
        "id": "NgBwNwaW3BV1",
        "outputId": "8e558dfa-473b-4860-bd28-d07652506195"
      },
      "execution_count": 74,
      "outputs": [
        {
          "output_type": "stream",
          "name": "stdout",
          "text": [
            "<re.Match object; span=(42, 52), match='2020-05-23'>\n",
            "<re.Match object; span=(53, 63), match='2020-06-11'>\n",
            "<re.Match object; span=(64, 74), match='2020-07-11'>\n"
          ]
        }
      ]
    },
    {
      "cell_type": "code",
      "source": [
        "pattern = re.compile(r'\\d{4}[-/]0[5-7][-/]\\d{2}')  \n",
        "matches = pattern.finditer(dates)\n",
        "for match in matches:\n",
        "    print(match)"
      ],
      "metadata": {
        "colab": {
          "base_uri": "https://localhost:8080/"
        },
        "id": "CSIu1otK3O62",
        "outputId": "ab39399d-57b8-4602-8a14-90248f28299a"
      },
      "execution_count": 75,
      "outputs": [
        {
          "output_type": "stream",
          "name": "stdout",
          "text": [
            "<re.Match object; span=(42, 52), match='2020-05-23'>\n",
            "<re.Match object; span=(53, 63), match='2020-06-11'>\n",
            "<re.Match object; span=(64, 74), match='2020-07-11'>\n"
          ]
        }
      ]
    },
    {
      "cell_type": "code",
      "source": [
        "my_string = \"\"\"\n",
        "hello world\n",
        "1223\n",
        "2020-04-20\n",
        "Mr Simpson\n",
        "Mrs Simpson\n",
        "Mr. Brown\n",
        "Ms Smith\n",
        "Mr. T\n",
        "\"\"\""
      ],
      "metadata": {
        "id": "dNRsq-k03hGG"
      },
      "execution_count": 77,
      "outputs": []
    },
    {
      "cell_type": "code",
      "source": [
        "pattern = re.compile(r'Mr\\s\\w+')  # + is a quantifier, meaning 1 or more\n",
        "matches = pattern.finditer(my_string)\n",
        "for match in matches:\n",
        "    print(match)"
      ],
      "metadata": {
        "colab": {
          "base_uri": "https://localhost:8080/"
        },
        "id": "s-cKmp-n31fu",
        "outputId": "39c62bf4-42db-4fc7-9a36-1716d884716f"
      },
      "execution_count": 78,
      "outputs": [
        {
          "output_type": "stream",
          "name": "stdout",
          "text": [
            "<re.Match object; span=(29, 39), match='Mr Simpson'>\n"
          ]
        }
      ]
    },
    {
      "cell_type": "code",
      "source": [
        "pattern = re.compile(r'Mr\\.\\s\\w+')  # + is a quantifier, meaning 1 or more\n",
        "matches = pattern.finditer(my_string)\n",
        "for match in matches:\n",
        "    print(match)"
      ],
      "metadata": {
        "colab": {
          "base_uri": "https://localhost:8080/"
        },
        "id": "3eQPi0gU4Tnx",
        "outputId": "dbda9ec9-800c-4508-9148-cc64de3e2775"
      },
      "execution_count": 81,
      "outputs": [
        {
          "output_type": "stream",
          "name": "stdout",
          "text": [
            "<re.Match object; span=(52, 61), match='Mr. Brown'>\n",
            "<re.Match object; span=(71, 76), match='Mr. T'>\n"
          ]
        }
      ]
    },
    {
      "cell_type": "code",
      "source": [
        "pattern = re.compile(r'Mr\\.?\\s\\w+')  # + is a quantifier, meaning 1 or more\n",
        "matches = pattern.finditer(my_string)\n",
        "for match in matches:\n",
        "    print(match)"
      ],
      "metadata": {
        "colab": {
          "base_uri": "https://localhost:8080/"
        },
        "id": "Ep2Sr7cz4dTr",
        "outputId": "04fd4ce2-ab3b-4541-fff8-8ac11c45a57a"
      },
      "execution_count": 82,
      "outputs": [
        {
          "output_type": "stream",
          "name": "stdout",
          "text": [
            "<re.Match object; span=(29, 39), match='Mr Simpson'>\n",
            "<re.Match object; span=(52, 61), match='Mr. Brown'>\n",
            "<re.Match object; span=(71, 76), match='Mr. T'>\n"
          ]
        }
      ]
    },
    {
      "cell_type": "code",
      "source": [
        "pattern = re.compile(r'(Mr|Ms|Mrs)\\.?\\s\\w+')  # + is a quantifier, meaning 1 or more\n",
        "matches = pattern.finditer(my_string)\n",
        "for match in matches:\n",
        "    print(match)"
      ],
      "metadata": {
        "colab": {
          "base_uri": "https://localhost:8080/"
        },
        "id": "jXP39ZzA5IiS",
        "outputId": "a91d6c39-c1fa-4525-d370-d6088756315b"
      },
      "execution_count": 83,
      "outputs": [
        {
          "output_type": "stream",
          "name": "stdout",
          "text": [
            "<re.Match object; span=(29, 39), match='Mr Simpson'>\n",
            "<re.Match object; span=(40, 51), match='Mrs Simpson'>\n",
            "<re.Match object; span=(52, 61), match='Mr. Brown'>\n",
            "<re.Match object; span=(62, 70), match='Ms Smith'>\n",
            "<re.Match object; span=(71, 76), match='Mr. T'>\n"
          ]
        }
      ]
    },
    {
      "cell_type": "code",
      "source": [
        "my_string = \"\"\"\n",
        "hello world\n",
        "1223\n",
        "2020-04-20\n",
        "Mr Simpson\n",
        "Mrs Simpson\n",
        "Mr. Brown\n",
        "Ms Smith\n",
        "Mr. T\n",
        "pythonengineer@gmail.com\n",
        "Python-engineer@gmx.de\n",
        "python-engineer123@my-domain.org\n",
        "\"\"\""
      ],
      "metadata": {
        "id": "BE0Taddg6HP6"
      },
      "execution_count": 86,
      "outputs": []
    },
    {
      "cell_type": "code",
      "source": [
        "pattern = re.compile(r'[a-zA-Z0-9-]+@')  # + is a quantifier, meaning 1 or more\n",
        "matches = pattern.finditer(my_string)\n",
        "for match in matches:\n",
        "    print(match)"
      ],
      "metadata": {
        "colab": {
          "base_uri": "https://localhost:8080/"
        },
        "id": "OdSxTKH_6XNE",
        "outputId": "d07bc708-6601-4742-f006-ff9cc484f214"
      },
      "execution_count": 87,
      "outputs": [
        {
          "output_type": "stream",
          "name": "stdout",
          "text": [
            "<re.Match object; span=(77, 92), match='pythonengineer@'>\n",
            "<re.Match object; span=(102, 118), match='Python-engineer@'>\n",
            "<re.Match object; span=(125, 144), match='python-engineer123@'>\n"
          ]
        }
      ]
    },
    {
      "cell_type": "code",
      "source": [
        "pattern = re.compile(r'[a-zA-Z0-9-]+@[a-zA-Z-]+.')  # + is a quantifier, meaning 1 or more\n",
        "matches = pattern.finditer(my_string)\n",
        "for match in matches:\n",
        "    print(match)"
      ],
      "metadata": {
        "colab": {
          "base_uri": "https://localhost:8080/"
        },
        "id": "GCseTJ467Fgv",
        "outputId": "1ec6d97d-d476-4bd0-ce0d-a400d6ea558d"
      },
      "execution_count": 89,
      "outputs": [
        {
          "output_type": "stream",
          "name": "stdout",
          "text": [
            "<re.Match object; span=(77, 98), match='pythonengineer@gmail.'>\n",
            "<re.Match object; span=(102, 122), match='Python-engineer@gmx.'>\n",
            "<re.Match object; span=(125, 154), match='python-engineer123@my-domain.'>\n"
          ]
        }
      ]
    },
    {
      "cell_type": "code",
      "source": [
        "pattern = re.compile(r'[a-zA-Z0-9-]+@[a-zA-Z-]+\\.')  # + is a quantifier, meaning 1 or more\n",
        "matches = pattern.finditer(my_string)\n",
        "for match in matches:\n",
        "    print(match)"
      ],
      "metadata": {
        "colab": {
          "base_uri": "https://localhost:8080/"
        },
        "id": "PLjQwS3a7kxa",
        "outputId": "f0466a34-7e63-4cf9-edde-26cc7e3875c4"
      },
      "execution_count": 90,
      "outputs": [
        {
          "output_type": "stream",
          "name": "stdout",
          "text": [
            "<re.Match object; span=(77, 98), match='pythonengineer@gmail.'>\n",
            "<re.Match object; span=(102, 122), match='Python-engineer@gmx.'>\n",
            "<re.Match object; span=(125, 154), match='python-engineer123@my-domain.'>\n"
          ]
        }
      ]
    },
    {
      "cell_type": "code",
      "source": [
        "pattern = re.compile(r'[a-zA-Z0-9-]+@[a-zA-Z-]+\\.(com|de|org)')  # + is a quantifier, meaning 1 or more\n",
        "matches = pattern.finditer(my_string)\n",
        "for match in matches:\n",
        "    print(match)"
      ],
      "metadata": {
        "colab": {
          "base_uri": "https://localhost:8080/"
        },
        "id": "Q1srG9p78Cm3",
        "outputId": "2f186d33-1b88-4b14-a582-d65b4003794d"
      },
      "execution_count": 91,
      "outputs": [
        {
          "output_type": "stream",
          "name": "stdout",
          "text": [
            "<re.Match object; span=(77, 101), match='pythonengineer@gmail.com'>\n",
            "<re.Match object; span=(102, 124), match='Python-engineer@gmx.de'>\n",
            "<re.Match object; span=(125, 157), match='python-engineer123@my-domain.org'>\n"
          ]
        }
      ]
    },
    {
      "cell_type": "code",
      "source": [
        "pattern = re.compile(r'[a-zA-Z0-9-]+@[a-zA-Z-]+\\.[a-zA-Z]+')  # + is a quantifier, meaning 1 or more\n",
        "matches = pattern.finditer(my_string)\n",
        "for match in matches:\n",
        "    print(match)"
      ],
      "metadata": {
        "colab": {
          "base_uri": "https://localhost:8080/"
        },
        "id": "yMqQEnNo-hMx",
        "outputId": "9ab9961f-8d18-44cf-a132-066a502ee981"
      },
      "execution_count": 92,
      "outputs": [
        {
          "output_type": "stream",
          "name": "stdout",
          "text": [
            "<re.Match object; span=(77, 101), match='pythonengineer@gmail.com'>\n",
            "<re.Match object; span=(102, 124), match='Python-engineer@gmx.de'>\n",
            "<re.Match object; span=(125, 157), match='python-engineer123@my-domain.org'>\n"
          ]
        }
      ]
    },
    {
      "cell_type": "code",
      "source": [
        "pattern = re.compile(r'([a-zA-Z0-9-]+)@([a-zA-Z-]+)\\.([a-zA-Z]+)')  # + is a quantifier, meaning 1 or more\n",
        "matches = pattern.finditer(my_string)\n",
        "for match in matches:\n",
        "    print(match)"
      ],
      "metadata": {
        "colab": {
          "base_uri": "https://localhost:8080/"
        },
        "id": "JDY8Y6ox-6M9",
        "outputId": "1e074e49-3ca5-4ff1-9b2e-2485e117861d"
      },
      "execution_count": 93,
      "outputs": [
        {
          "output_type": "stream",
          "name": "stdout",
          "text": [
            "<re.Match object; span=(77, 101), match='pythonengineer@gmail.com'>\n",
            "<re.Match object; span=(102, 124), match='Python-engineer@gmx.de'>\n",
            "<re.Match object; span=(125, 157), match='python-engineer123@my-domain.org'>\n"
          ]
        }
      ]
    },
    {
      "cell_type": "code",
      "source": [
        "my_string = \"\"\"\n",
        "hello world\n",
        "1223\n",
        "2020-04-20\n",
        "Mr Simpson\n",
        "Mrs Simpson\n",
        "Mr. Brown\n",
        "Ms Smith\n",
        "Mr. T\n",
        "pythonengineer@gmail.com\n",
        "Python-engineer@gmx.de\n",
        "python-engineer123@my-domain.org\n",
        "\"\"\""
      ],
      "metadata": {
        "id": "crXPPltUACTl"
      },
      "execution_count": 96,
      "outputs": []
    },
    {
      "cell_type": "code",
      "source": [
        "pattern = re.compile(r'([a-zA-Z0-9-]+)@([a-zA-Z-]+)\\.([a-zA-Z]+)')  # + is a quantifier, meaning 1 or more\n",
        "matches = pattern.finditer(my_string)\n",
        "for match in matches:\n",
        "    print(match.group(0))"
      ],
      "metadata": {
        "colab": {
          "base_uri": "https://localhost:8080/"
        },
        "id": "znXqPU9Z_X8w",
        "outputId": "650a150b-53a9-4871-a697-9d071bb1d336"
      },
      "execution_count": 98,
      "outputs": [
        {
          "output_type": "stream",
          "name": "stdout",
          "text": [
            "pythonengineer@gmail.com\n",
            "Python-engineer@gmx.de\n",
            "python-engineer123@my-domain.org\n"
          ]
        }
      ]
    },
    {
      "cell_type": "code",
      "source": [
        "pattern = re.compile(r'([a-zA-Z0-9-]+)@([a-zA-Z-]+)\\.([a-zA-Z]+)')  # + is a quantifier, meaning 1 or more\n",
        "matches = pattern.finditer(my_string)\n",
        "for match in matches:\n",
        "    print(match.group(1))"
      ],
      "metadata": {
        "colab": {
          "base_uri": "https://localhost:8080/"
        },
        "id": "mjlZivye_jjV",
        "outputId": "bc36261b-a39a-41d6-f024-dd2a8785d655"
      },
      "execution_count": 99,
      "outputs": [
        {
          "output_type": "stream",
          "name": "stdout",
          "text": [
            "pythonengineer\n",
            "Python-engineer\n",
            "python-engineer123\n"
          ]
        }
      ]
    },
    {
      "cell_type": "code",
      "source": [
        "pattern = re.compile(r'([a-zA-Z0-9-]+)@([a-zA-Z-]+)\\.([a-zA-Z]+)')  # + is a quantifier, meaning 1 or more\n",
        "matches = pattern.finditer(my_string)\n",
        "for match in matches:\n",
        "    print(match.group(2))"
      ],
      "metadata": {
        "colab": {
          "base_uri": "https://localhost:8080/"
        },
        "id": "Z7XfDTw-ASqq",
        "outputId": "f97907c6-e5b7-492c-8502-b075acc5327c"
      },
      "execution_count": 100,
      "outputs": [
        {
          "output_type": "stream",
          "name": "stdout",
          "text": [
            "gmail\n",
            "gmx\n",
            "my-domain\n"
          ]
        }
      ]
    },
    {
      "cell_type": "code",
      "source": [
        "pattern = re.compile(r'([a-zA-Z0-9-]+)@([a-zA-Z-]+)\\.([a-zA-Z]+)')  # + is a quantifier, meaning 1 or more\n",
        "matches = pattern.finditer(my_string)\n",
        "for match in matches:\n",
        "    print(match.group(3))"
      ],
      "metadata": {
        "colab": {
          "base_uri": "https://localhost:8080/"
        },
        "id": "FKXuaiM9Akls",
        "outputId": "6bf750dd-826e-4a79-fb24-e26bc30cd5cd"
      },
      "execution_count": 102,
      "outputs": [
        {
          "output_type": "stream",
          "name": "stdout",
          "text": [
            "com\n",
            "de\n",
            "org\n"
          ]
        }
      ]
    },
    {
      "cell_type": "code",
      "source": [
        "## String modification methods\n",
        "# split method\n",
        "test_string = 'abc123ABCDEF123abc'\n",
        "pattern = re.compile(r'abc')\n",
        "splitted = pattern.split(test_string)\n",
        "print(splitted)"
      ],
      "metadata": {
        "colab": {
          "base_uri": "https://localhost:8080/"
        },
        "id": "qv7gcRSRAnhQ",
        "outputId": "df508565-14f6-4861-c739-652d73dd9b7e"
      },
      "execution_count": 103,
      "outputs": [
        {
          "output_type": "stream",
          "name": "stdout",
          "text": [
            "['', '123ABCDEF123', '']\n"
          ]
        }
      ]
    },
    {
      "cell_type": "code",
      "source": [
        "test_string = 'abc123456abc123abc'\n",
        "pattern = re.compile(r'abc')\n",
        "splitted = pattern.split(test_string)\n",
        "print(splitted)"
      ],
      "metadata": {
        "colab": {
          "base_uri": "https://localhost:8080/"
        },
        "id": "yIkJTwBUBtdH",
        "outputId": "1b8b69e6-ef66-4b84-961f-7eb2f48e0b0c"
      },
      "execution_count": 104,
      "outputs": [
        {
          "output_type": "stream",
          "name": "stdout",
          "text": [
            "['', '123456', '123', '']\n"
          ]
        }
      ]
    },
    {
      "cell_type": "code",
      "source": [
        "# sub method\n",
        "test_string = 'hello world, you are the best world'\n",
        "pattern = re.compile(r'world')\n",
        "subbed_string = pattern.sub('planet', test_string)\n",
        "print(subbed_string)"
      ],
      "metadata": {
        "colab": {
          "base_uri": "https://localhost:8080/"
        },
        "id": "mu551-fkB7tf",
        "outputId": "4447df3f-0563-44c4-85cc-2ddc9f82662e"
      },
      "execution_count": 105,
      "outputs": [
        {
          "output_type": "stream",
          "name": "stdout",
          "text": [
            "hello planet, you are the best planet\n"
          ]
        }
      ]
    },
    {
      "cell_type": "code",
      "source": [
        "urls = \"\"\"\n",
        "hello\n",
        "2020-05-20\n",
        "http://python-engineer.com\n",
        "https://www.Python-engineer.com\n",
        "http://www.pyeng.net\n",
        "\"\"\"\n",
        "pattern = re.compile(r\"https?://www\\.([a-zA-Z-]+)\\.[a-zA-Z]+\")\n",
        "matches = pattern.finditer(urls)\n",
        "for match in matches:\n",
        "    print(match)"
      ],
      "metadata": {
        "colab": {
          "base_uri": "https://localhost:8080/"
        },
        "id": "I7BDiDe1Cq36",
        "outputId": "13e78df2-0706-46d9-c7c0-e6589ee112d8"
      },
      "execution_count": 113,
      "outputs": [
        {
          "output_type": "stream",
          "name": "stdout",
          "text": [
            "<re.Match object; span=(45, 76), match='https://www.Python-engineer.com'>\n",
            "<re.Match object; span=(77, 97), match='http://www.pyeng.net'>\n"
          ]
        }
      ]
    },
    {
      "cell_type": "code",
      "source": [
        "urls = \"\"\"\n",
        "http://python-engineer.com\n",
        "https://www.Python-engineer.com\n",
        "http://www.pyeng.net\n",
        "\"\"\"\n",
        "pattern = re.compile(r\"https?://(www\\.)?([a-zA-Z-]+)\\.[a-zA-Z]+\")\n",
        "matches = pattern.finditer(urls)\n",
        "for match in matches:\n",
        "    print(match)"
      ],
      "metadata": {
        "colab": {
          "base_uri": "https://localhost:8080/"
        },
        "id": "gbCt4QQVD9y0",
        "outputId": "71a1bf72-642d-48dc-9585-53d6d593b5aa"
      },
      "execution_count": 116,
      "outputs": [
        {
          "output_type": "stream",
          "name": "stdout",
          "text": [
            "<re.Match object; span=(18, 44), match='http://python-engineer.com'>\n",
            "<re.Match object; span=(45, 76), match='https://www.Python-engineer.com'>\n",
            "<re.Match object; span=(77, 97), match='http://www.pyeng.net'>\n"
          ]
        }
      ]
    },
    {
      "cell_type": "code",
      "source": [
        "subbed_urls = pattern.sub(\"hello\", urls)\n",
        "print(subbed_urls)"
      ],
      "metadata": {
        "colab": {
          "base_uri": "https://localhost:8080/"
        },
        "id": "b8rJDHc1FX6v",
        "outputId": "9cddd061-4c2f-4bf1-a1b1-e56a8cd781f2"
      },
      "execution_count": 117,
      "outputs": [
        {
          "output_type": "stream",
          "name": "stdout",
          "text": [
            "\n",
            "hello\n",
            "2020-05-20\n",
            "hello\n",
            "hello\n",
            "hello\n",
            "\n"
          ]
        }
      ]
    },
    {
      "cell_type": "code",
      "source": [
        "urls = \"\"\"\n",
        "http://python-engineer.com\n",
        "https://www.Python-engineer.com\n",
        "http://www.pyeng.net\n",
        "\"\"\"\n",
        "pattern = re.compile(r\"https?://(www\\.)?([a-zA-Z-]+)(\\.[a-zA-Z]+)\")\n",
        "matches = pattern.finditer(urls)\n",
        "for match in matches:\n",
        "    print(match.group(1))"
      ],
      "metadata": {
        "colab": {
          "base_uri": "https://localhost:8080/"
        },
        "id": "8ZyrGvHSF-MI",
        "outputId": "797942c7-45be-4ab3-c433-9cc7baaddbc4"
      },
      "execution_count": 120,
      "outputs": [
        {
          "output_type": "stream",
          "name": "stdout",
          "text": [
            "None\n",
            "www.\n",
            "www.\n"
          ]
        }
      ]
    },
    {
      "cell_type": "code",
      "source": [
        "pattern = re.compile(r\"https?://(www\\.)?([a-zA-Z-]+)(\\.[a-zA-Z]+)\")\n",
        "matches = pattern.finditer(urls)\n",
        "for match in matches:\n",
        "    print(match.group(2))"
      ],
      "metadata": {
        "colab": {
          "base_uri": "https://localhost:8080/"
        },
        "id": "rfN9T6KnJPHM",
        "outputId": "dfe512ef-5eb0-45b2-b90b-c15e3c863d64"
      },
      "execution_count": 125,
      "outputs": [
        {
          "output_type": "stream",
          "name": "stdout",
          "text": [
            "python-engineer\n",
            "Python-engineer\n",
            "pyeng\n"
          ]
        }
      ]
    },
    {
      "cell_type": "code",
      "source": [
        "pattern = re.compile(r\"https?://(www\\.)?([a-zA-Z-]+)(\\.[a-zA-Z]+)\")\n",
        "matches = pattern.finditer(urls)\n",
        "for match in matches:\n",
        "    print(match.group(3))"
      ],
      "metadata": {
        "colab": {
          "base_uri": "https://localhost:8080/"
        },
        "id": "Fp3AScFzHDyc",
        "outputId": "eab70f1a-9f25-4503-a1ef-6403814ae0e4"
      },
      "execution_count": 122,
      "outputs": [
        {
          "output_type": "stream",
          "name": "stdout",
          "text": [
            ".com\n",
            ".com\n",
            ".net\n"
          ]
        }
      ]
    },
    {
      "cell_type": "code",
      "source": [
        "subbed_urls = pattern.sub(r\"\\2\\3\", urls)\n",
        "print(subbed_urls)"
      ],
      "metadata": {
        "colab": {
          "base_uri": "https://localhost:8080/"
        },
        "id": "hw7S5yZmHsct",
        "outputId": "c1e83098-9685-4b59-8114-cfb2765a40b4"
      },
      "execution_count": 126,
      "outputs": [
        {
          "output_type": "stream",
          "name": "stdout",
          "text": [
            "\n",
            "python-engineer.com\n",
            "Python-engineer.com\n",
            "pyeng.net\n",
            "\n"
          ]
        }
      ]
    },
    {
      "cell_type": "code",
      "source": [
        "my_string = \"Hello World\"\n",
        "pattern = re.compile(\"World\", re.I)\n",
        "matches = pattern.finditer(my_string)\n",
        "for match in matches:\n",
        "    print(match)"
      ],
      "metadata": {
        "colab": {
          "base_uri": "https://localhost:8080/"
        },
        "id": "uZKPA_cOIE3R",
        "outputId": "132ae0d9-fc5b-4209-9f0e-985a50c3ea11"
      },
      "execution_count": 129,
      "outputs": [
        {
          "output_type": "stream",
          "name": "stdout",
          "text": [
            "<re.Match object; span=(6, 11), match='World'>\n"
          ]
        }
      ]
    },
    {
      "cell_type": "code",
      "source": [],
      "metadata": {
        "id": "bRKV6bmzKcTD"
      },
      "execution_count": null,
      "outputs": []
    }
  ]
}