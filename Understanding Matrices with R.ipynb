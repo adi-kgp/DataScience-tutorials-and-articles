{
 "cells": [
  {
   "cell_type": "markdown",
   "id": "4aea2de4-7fde-41a2-81b7-06fd5cd1b808",
   "metadata": {},
   "source": [
    "Matrices is a very important data structure of the R programming language and like vector, all its values are of the same data types. They are extensively used in machine learning models like linear regression, logistic regression, etc. Linear algebra is the main component of Machine Learning and Deep Learning Algorithms. Matrices are extensively used in optimization and finding the best fit line of regression. In this tutorial, we will cover the following topics:\n",
    "\n",
    "* Create matrices in R programming language. \n",
    "\n",
    "* Update, access and change the dimensions of a matrix.\n",
    "\n",
    "* Use the cbind(V1, V2) function to bind the V1 and V2 vectors into the column-wise matrix.\n",
    "\n",
    "* Use the rbind(V1, V2) function to bind the vectors V1 and V2 into the row-wise matrix. \n",
    "\n",
    "* Element wise multiplication of two matrices. \n",
    "\n",
    "* Matrix multiplication of M1 and M2. \n",
    "\n",
    "* Transpose of a matrix.\n",
    "\n",
    "* Determinant of a matrix,\n",
    "\n",
    "* Calculate the row sum of a matrix using the rowSums() function.\n",
    "\n",
    "* Calculate the column sum of a matrix using the colMeans() function. \n",
    "\n",
    "* Calculate the row mean of a matrix using the rowMeans() function."
   ]
  },
  {
   "cell_type": "markdown",
   "id": "e74e77f7-4ee9-4099-82f1-96cbf57061e3",
   "metadata": {},
   "source": [
    "### Creating Matrices in R\n",
    "\n",
    "Create a matrix using the matrix(V, ncol, nrow, byrow) function that takes three arguments given below:\n",
    "\n",
    "* The V is a vector of data elements \n",
    "* The ncol means the number of columns of the matrix\n",
    "* the nrow means number of rows of the matrix\n",
    "* If byrow value is true, then rows will arrange rows wise otherwise column wise"
   ]
  },
  {
   "cell_type": "code",
   "execution_count": 1,
   "id": "3629a764-05f7-4241-9370-728f9b0298ef",
   "metadata": {},
   "outputs": [
    {
     "data": {
      "text/html": [
       "<table class=\"dataframe\">\n",
       "<caption>A matrix: 3 × 3 of type int</caption>\n",
       "<tbody>\n",
       "\t<tr><td>1</td><td>4</td><td>7</td></tr>\n",
       "\t<tr><td>2</td><td>5</td><td>8</td></tr>\n",
       "\t<tr><td>3</td><td>6</td><td>9</td></tr>\n",
       "</tbody>\n",
       "</table>\n"
      ],
      "text/latex": [
       "A matrix: 3 × 3 of type int\n",
       "\\begin{tabular}{lll}\n",
       "\t 1 & 4 & 7\\\\\n",
       "\t 2 & 5 & 8\\\\\n",
       "\t 3 & 6 & 9\\\\\n",
       "\\end{tabular}\n"
      ],
      "text/markdown": [
       "\n",
       "A matrix: 3 × 3 of type int\n",
       "\n",
       "| 1 | 4 | 7 |\n",
       "| 2 | 5 | 8 |\n",
       "| 3 | 6 | 9 |\n",
       "\n"
      ],
      "text/plain": [
       "     [,1] [,2] [,3]\n",
       "[1,] 1    4    7   \n",
       "[2,] 2    5    8   \n",
       "[3,] 3    6    9   "
      ]
     },
     "metadata": {},
     "output_type": "display_data"
    }
   ],
   "source": [
    "V <- c(1:9)\n",
    "M <- matrix(V, ncol=3, nrow=3) # default byrow-False\n",
    "M"
   ]
  },
  {
   "cell_type": "code",
   "execution_count": 2,
   "id": "5d8ece6a-7053-4ba5-ad47-a96bd8c7656a",
   "metadata": {},
   "outputs": [
    {
     "data": {
      "text/html": [
       "<table class=\"dataframe\">\n",
       "<caption>A matrix: 3 × 3 of type int</caption>\n",
       "<tbody>\n",
       "\t<tr><td>1</td><td>2</td><td>3</td></tr>\n",
       "\t<tr><td>4</td><td>5</td><td>6</td></tr>\n",
       "\t<tr><td>7</td><td>8</td><td>9</td></tr>\n",
       "</tbody>\n",
       "</table>\n"
      ],
      "text/latex": [
       "A matrix: 3 × 3 of type int\n",
       "\\begin{tabular}{lll}\n",
       "\t 1 & 2 & 3\\\\\n",
       "\t 4 & 5 & 6\\\\\n",
       "\t 7 & 8 & 9\\\\\n",
       "\\end{tabular}\n"
      ],
      "text/markdown": [
       "\n",
       "A matrix: 3 × 3 of type int\n",
       "\n",
       "| 1 | 2 | 3 |\n",
       "| 4 | 5 | 6 |\n",
       "| 7 | 8 | 9 |\n",
       "\n"
      ],
      "text/plain": [
       "     [,1] [,2] [,3]\n",
       "[1,] 1    2    3   \n",
       "[2,] 4    5    6   \n",
       "[3,] 7    8    9   "
      ]
     },
     "metadata": {},
     "output_type": "display_data"
    }
   ],
   "source": [
    "M1 <- matrix(V, ncol=3, nrow=3, byrow=TRUE)\n",
    "M1"
   ]
  },
  {
   "cell_type": "markdown",
   "id": "35f097d2-9c37-4c6c-a5bb-3483d93b27ff",
   "metadata": {},
   "source": [
    "Now we will create a matrix using cbind() and rbind() functions.\n",
    "\n",
    "* the cbind(V1, V2) binds the vectors V1 and V2 into the column wise matrix.\n",
    "* The rbind(V1, V2) binds the vectors V1 and V2 into row-wise matrix."
   ]
  },
  {
   "cell_type": "code",
   "execution_count": 3,
   "id": "7b7bff63-3962-4f1c-a083-dedf67bab85e",
   "metadata": {},
   "outputs": [
    {
     "data": {
      "text/html": [
       "<table class=\"dataframe\">\n",
       "<caption>A matrix: 5 × 2 of type dbl</caption>\n",
       "<thead>\n",
       "\t<tr><th scope=col>roll_no</th><th scope=col>marks</th></tr>\n",
       "</thead>\n",
       "<tbody>\n",
       "\t<tr><td>11</td><td>98</td></tr>\n",
       "\t<tr><td>12</td><td>85</td></tr>\n",
       "\t<tr><td>13</td><td>96</td></tr>\n",
       "\t<tr><td>14</td><td>36</td></tr>\n",
       "\t<tr><td>15</td><td>89</td></tr>\n",
       "</tbody>\n",
       "</table>\n"
      ],
      "text/latex": [
       "A matrix: 5 × 2 of type dbl\n",
       "\\begin{tabular}{ll}\n",
       " roll\\_no & marks\\\\\n",
       "\\hline\n",
       "\t 11 & 98\\\\\n",
       "\t 12 & 85\\\\\n",
       "\t 13 & 96\\\\\n",
       "\t 14 & 36\\\\\n",
       "\t 15 & 89\\\\\n",
       "\\end{tabular}\n"
      ],
      "text/markdown": [
       "\n",
       "A matrix: 5 × 2 of type dbl\n",
       "\n",
       "| roll_no | marks |\n",
       "|---|---|\n",
       "| 11 | 98 |\n",
       "| 12 | 85 |\n",
       "| 13 | 96 |\n",
       "| 14 | 36 |\n",
       "| 15 | 89 |\n",
       "\n"
      ],
      "text/plain": [
       "     roll_no marks\n",
       "[1,] 11      98   \n",
       "[2,] 12      85   \n",
       "[3,] 13      96   \n",
       "[4,] 14      36   \n",
       "[5,] 15      89   "
      ]
     },
     "metadata": {},
     "output_type": "display_data"
    }
   ],
   "source": [
    "roll_no <- c(11, 12, 13, 14, 15)\n",
    "marks <- c(98, 85, 96, 36, 89)\n",
    "\n",
    "T1 <- cbind(roll_no, marks)\n",
    "T1"
   ]
  },
  {
   "cell_type": "code",
   "execution_count": 4,
   "id": "1902d99e-c5f7-4787-a805-71418cc7ba85",
   "metadata": {},
   "outputs": [
    {
     "data": {
      "text/html": [
       "<table class=\"dataframe\">\n",
       "<caption>A matrix: 2 × 5 of type dbl</caption>\n",
       "<tbody>\n",
       "\t<tr><th scope=row>roll_no</th><td>11</td><td>12</td><td>13</td><td>14</td><td>15</td></tr>\n",
       "\t<tr><th scope=row>marks</th><td>98</td><td>85</td><td>96</td><td>36</td><td>89</td></tr>\n",
       "</tbody>\n",
       "</table>\n"
      ],
      "text/latex": [
       "A matrix: 2 × 5 of type dbl\n",
       "\\begin{tabular}{r|lllll}\n",
       "\troll\\_no & 11 & 12 & 13 & 14 & 15\\\\\n",
       "\tmarks & 98 & 85 & 96 & 36 & 89\\\\\n",
       "\\end{tabular}\n"
      ],
      "text/markdown": [
       "\n",
       "A matrix: 2 × 5 of type dbl\n",
       "\n",
       "| roll_no | 11 | 12 | 13 | 14 | 15 |\n",
       "| marks | 98 | 85 | 96 | 36 | 89 |\n",
       "\n"
      ],
      "text/plain": [
       "        [,1] [,2] [,3] [,4] [,5]\n",
       "roll_no 11   12   13   14   15  \n",
       "marks   98   85   96   36   89  "
      ]
     },
     "metadata": {},
     "output_type": "display_data"
    }
   ],
   "source": [
    "T2 <- rbind(roll_no, marks)\n",
    "T2"
   ]
  },
  {
   "cell_type": "code",
   "execution_count": null,
   "id": "d9828c9d-e532-4749-ada1-fa262190d316",
   "metadata": {},
   "outputs": [],
   "source": []
  }
 ],
 "metadata": {
  "kernelspec": {
   "display_name": "Python 3 (ipykernel)",
   "language": "python",
   "name": "python3"
  },
  "language_info": {
   "codemirror_mode": {
    "name": "ipython",
    "version": 3
   },
   "file_extension": ".py",
   "mimetype": "text/x-python",
   "name": "python",
   "nbconvert_exporter": "python",
   "pygments_lexer": "ipython3",
   "version": "3.9.13"
  }
 },
 "nbformat": 4,
 "nbformat_minor": 5
}
