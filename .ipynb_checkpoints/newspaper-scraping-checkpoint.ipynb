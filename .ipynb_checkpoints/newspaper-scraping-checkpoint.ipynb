{
 "cells": [
  {
   "cell_type": "markdown",
   "id": "74974a9d-4b9c-44e0-8c91-f6a0ba99688c",
   "metadata": {},
   "source": [
    "## The Easy Way to Web Scrape Articles Online\n",
    "\n",
    "In this tutorial we will scrape a bunch of news articles from different news outlets into a simple python script using the package \"Newspaper3k\""
   ]
  },
  {
   "cell_type": "markdown",
   "id": "1661891a-6667-44d9-9ad5-7385661645a7",
   "metadata": {},
   "source": [
    "### The Basics"
   ]
  },
  {
   "cell_type": "code",
   "execution_count": 1,
   "id": "f8fe7e75-2f1e-4ded-aa30-6555d3bac0b3",
   "metadata": {},
   "outputs": [],
   "source": [
    "import newspaper\n",
    "from newspaper import Article\n",
    "import nltk\n",
    "import warnings\n",
    "warnings.filterwarnings(\"ignore\")"
   ]
  },
  {
   "cell_type": "code",
   "execution_count": 2,
   "id": "b350a71b-c0d7-44e0-9547-225a21a38a2b",
   "metadata": {},
   "outputs": [
    {
     "name": "stderr",
     "output_type": "stream",
     "text": [
      "[nltk_data] Downloading package punkt to /home/johnfrost/nltk_data...\n",
      "[nltk_data]   Package punkt is already up-to-date!\n"
     ]
    }
   ],
   "source": [
    "# The basics of downloading the article into memory\n",
    "article = Article(\"https://www.washingtonpost.com/world/2022/08/09/russia-ukraine-war-latest-updates/?itid=sf_world_article_list\")\n",
    "#article = Article(\"https://www.gamespot.com//news/\")\n",
    "article.download()\n",
    "article.parse()\n",
    "nltk.download('punkt')\n",
    "article.nlp()"
   ]
  },
  {
   "cell_type": "code",
   "execution_count": 3,
   "id": "977544dd-2978-4f66-a96c-82cbf247afd3",
   "metadata": {},
   "outputs": [
    {
     "name": "stdout",
     "output_type": "stream",
     "text": [
      "War in Ukraine: What you need to know\n",
      "\n",
      "The latest: The United Nations has expressed hope that the first grain shipments from blockaded Ukrainian ports could start Friday. However, the exact coordinates needed to ensure a safe passage for ships were still being negotiated on Thursday, U.N. aid chief Martin Griffiths said.\n",
      "\n",
      "The fight: Russia’s recent operational pause, which analysts identified in recent weeks as an effort to regroup troops before doubling down on Ukraine’s south and east, appears to be ending. Russia appears set to resume ground offensives, with Defense Minister Sergei Shoigu telling troops on Saturday to intensify attacks “in all operational sectors” of Ukraine.\n",
      "\n",
      "The weapons: Ukraine is making use of weapons such as Javelin antitank missiles and Switchblade “kamikaze” drones, provided by the United States and other allies. Russia has used an array of weapons against Ukraine, some of which have drawn the attention and concern of analysts.\n",
      "\n",
      "Photos: Post photographers have been on the ground from the very beginning of the war — here’s some of their most powerful work.\n",
      "\n",
      "How you can help: Here are ways those in the U.S. can help support the Ukrainian people as well as what people around the world have been donating.\n",
      "\n",
      "Read our full coverage of the Russia-Ukraine crisis. Are you on Telegram? Subscribe to our channel for updates and exclusive video.\n"
     ]
    }
   ],
   "source": [
    "# To print out the full text\n",
    "print(article.text)"
   ]
  },
  {
   "cell_type": "code",
   "execution_count": 4,
   "id": "e674f7c3-9ba6-45e1-af33-8cf737cb4a9f",
   "metadata": {},
   "outputs": [
    {
     "name": "stdout",
     "output_type": "stream",
     "text": [
      "War in Ukraine: What you need to knowThe latest: The United Nations has expressed hope that the first grain shipments from blockaded Ukrainian ports could start Friday.\n",
      "The fight: Russia’s recent operational pause, which analysts identified in recent weeks as an effort to regroup troops before doubling down on Ukraine’s south and east, appears to be ending.\n",
      "Russia appears set to resume ground offensives, with Defense Minister Sergei Shoigu telling troops on Saturday to intensify attacks “in all operational sectors” of Ukraine.\n",
      "The weapons: Ukraine is making use of weapons such as Javelin antitank missiles and Switchblade “kamikaze” drones, provided by the United States and other allies.\n",
      "Russia has used an array of weapons against Ukraine, some of which have drawn the attention and concern of analysts.\n"
     ]
    }
   ],
   "source": [
    "# To print out a summary of the text\n",
    "# This works, because newspaper3k has built in NLP tools\n",
    "print(article.summary)"
   ]
  },
  {
   "cell_type": "code",
   "execution_count": 5,
   "id": "19b83d96-f757-45c7-8324-bc55564ed7ce",
   "metadata": {},
   "outputs": [
    {
     "name": "stdout",
     "output_type": "stream",
     "text": [
      "['Jennifer Hassan', 'Sean Fanning']\n"
     ]
    }
   ],
   "source": [
    "# To print out the list of authors\n",
    "print(article.authors)"
   ]
  },
  {
   "cell_type": "code",
   "execution_count": 6,
   "id": "fb9da4d1-04de-43e9-b5f0-671984838fc6",
   "metadata": {},
   "outputs": [
    {
     "name": "stdout",
     "output_type": "stream",
     "text": [
      "['weapons', 'russians', 'killed', 'izyum', 'wounded', 'ukraine', 'troops', 'russia', 'briefing', 'operational', 'war', 'ukrainian', 'live', 'united', 'help', 'recent']\n"
     ]
    }
   ],
   "source": [
    "# To print out the list of keywords\n",
    "print(article.keywords)"
   ]
  },
  {
   "cell_type": "code",
   "execution_count": 7,
   "id": "f33ace7a-eb5b-4032-9c24-53b291b00417",
   "metadata": {},
   "outputs": [
    {
     "data": {
      "text/plain": [
       "'Ukraine Live Briefing: Ukrainian troops advance on Izyum; 80,000 Russians may have been killed, wounded in war'"
      ]
     },
     "execution_count": 7,
     "metadata": {},
     "output_type": "execute_result"
    }
   ],
   "source": [
    "# other functions to gather the other useful bits of meta data in an article\n",
    "article.title # Gives the title"
   ]
  },
  {
   "cell_type": "code",
   "execution_count": 8,
   "id": "5486900a-ea0f-4c4f-8cd3-a6a7f9e0554d",
   "metadata": {},
   "outputs": [
    {
     "data": {
      "text/plain": [
       "datetime.datetime(2022, 8, 9, 0, 0)"
      ]
     },
     "execution_count": 8,
     "metadata": {},
     "output_type": "execute_result"
    }
   ],
   "source": [
    "article.publish_date # gives the date the article was published"
   ]
  },
  {
   "cell_type": "code",
   "execution_count": 9,
   "id": "a0538768-fd79-40ec-a9fd-9787c792e059",
   "metadata": {},
   "outputs": [
    {
     "data": {
      "text/plain": [
       "'https://www.washingtonpost.com/wp-apps/imrs.php?src=https://arc-anglerfish-washpost-prod-washpost.s3.amazonaws.com/public/FNIJBJQXFEI63OMYWKVWR5MENA.jpg&w=1440'"
      ]
     },
     "execution_count": 9,
     "metadata": {},
     "output_type": "execute_result"
    }
   ],
   "source": [
    "article.top_image # gives the link to the main image of the article "
   ]
  },
  {
   "cell_type": "code",
   "execution_count": 10,
   "id": "c508518b-31c2-4d1d-a26c-f79003346dd0",
   "metadata": {},
   "outputs": [
    {
     "data": {
      "text/plain": [
       "{'https://www.washingtonpost.com/wp-apps/imrs.php?src=https://arc-anglerfish-washpost-prod-washpost.s3.amazonaws.com/public/FNIJBJQXFEI63OMYWKVWR5MENA.jpg&w=1440'}"
      ]
     },
     "execution_count": 10,
     "metadata": {},
     "output_type": "execute_result"
    }
   ],
   "source": [
    "article.images # provides a set of image links"
   ]
  },
  {
   "cell_type": "markdown",
   "id": "26435de5-410c-471e-9699-e764fc578ef2",
   "metadata": {},
   "source": [
    "### Advanced: Downloading multiple articles from one news site\n",
    "\n",
    "If we want to scrape more than one news article and store the data in a pandas dataframe first and then into a csv file, **its quite simple with this package**"
   ]
  },
  {
   "cell_type": "code",
   "execution_count": 11,
   "id": "ce87e2a2-6d51-495f-a85d-fff29bf2357d",
   "metadata": {},
   "outputs": [],
   "source": [
    "import newspaper\n",
    "from newspaper import Article\n",
    "from newspaper import Source\n",
    "import pandas as pd"
   ]
  },
  {
   "cell_type": "code",
   "execution_count": 13,
   "id": "f8a7887e-c26c-4789-9c57-16be0bda9c54",
   "metadata": {},
   "outputs": [
    {
     "data": {
      "text/html": [
       "<div>\n",
       "<style scoped>\n",
       "    .dataframe tbody tr th:only-of-type {\n",
       "        vertical-align: middle;\n",
       "    }\n",
       "\n",
       "    .dataframe tbody tr th {\n",
       "        vertical-align: top;\n",
       "    }\n",
       "\n",
       "    .dataframe thead th {\n",
       "        text-align: right;\n",
       "    }\n",
       "</style>\n",
       "<table border=\"1\" class=\"dataframe\">\n",
       "  <thead>\n",
       "    <tr style=\"text-align: right;\">\n",
       "      <th></th>\n",
       "      <th>Title</th>\n",
       "      <th>Authors</th>\n",
       "      <th>Text</th>\n",
       "      <th>Summary</th>\n",
       "      <th>Published_date</th>\n",
       "      <th>Source</th>\n",
       "    </tr>\n",
       "  </thead>\n",
       "  <tbody>\n",
       "    <tr>\n",
       "      <th>0</th>\n",
       "      <td>FBI searches Trump safe at Mar-a-Lago Club, fo...</td>\n",
       "      <td>Devlin Barrett</td>\n",
       "      <td>Gift Article Share\\n\\nFormer president Donald ...</td>\n",
       "      <td>In a lengthy statement in which he equated the...</td>\n",
       "      <td>2022-08-08</td>\n",
       "      <td>https://www.washingtonpost.com</td>\n",
       "    </tr>\n",
       "    <tr>\n",
       "      <th>1</th>\n",
       "      <td>FBI searches Trump safe at Mar-a-Lago Club, fo...</td>\n",
       "      <td>Mariana Alfaro</td>\n",
       "      <td>Gift Article Share\\n\\nFormer president Donald ...</td>\n",
       "      <td>In a lengthy statement in which he equated the...</td>\n",
       "      <td>2022-08-08</td>\n",
       "      <td>https://www.washingtonpost.com</td>\n",
       "    </tr>\n",
       "    <tr>\n",
       "      <th>2</th>\n",
       "      <td>FBI searches Trump safe at Mar-a-Lago Club, fo...</td>\n",
       "      <td>Josh Dawsey</td>\n",
       "      <td>Gift Article Share\\n\\nFormer president Donald ...</td>\n",
       "      <td>In a lengthy statement in which he equated the...</td>\n",
       "      <td>2022-08-08</td>\n",
       "      <td>https://www.washingtonpost.com</td>\n",
       "    </tr>\n",
       "    <tr>\n",
       "      <th>3</th>\n",
       "      <td>FBI searches Trump safe at Mar-a-Lago Club, fo...</td>\n",
       "      <td>Jacqueline Alemany</td>\n",
       "      <td>Gift Article Share\\n\\nFormer president Donald ...</td>\n",
       "      <td>In a lengthy statement in which he equated the...</td>\n",
       "      <td>2022-08-08</td>\n",
       "      <td>https://www.washingtonpost.com</td>\n",
       "    </tr>\n",
       "    <tr>\n",
       "      <th>4</th>\n",
       "      <td>Trump investigation live updates Trump claims ...</td>\n",
       "      <td>John Wagner</td>\n",
       "      <td>The activity Monday at Mar-a-Lago appears rela...</td>\n",
       "      <td>The activity Monday at Mar-a-Lago appears rela...</td>\n",
       "      <td>2022-08-09</td>\n",
       "      <td>https://www.washingtonpost.com</td>\n",
       "    </tr>\n",
       "  </tbody>\n",
       "</table>\n",
       "</div>"
      ],
      "text/plain": [
       "                                               Title             Authors  \\\n",
       "0  FBI searches Trump safe at Mar-a-Lago Club, fo...      Devlin Barrett   \n",
       "1  FBI searches Trump safe at Mar-a-Lago Club, fo...      Mariana Alfaro   \n",
       "2  FBI searches Trump safe at Mar-a-Lago Club, fo...         Josh Dawsey   \n",
       "3  FBI searches Trump safe at Mar-a-Lago Club, fo...  Jacqueline Alemany   \n",
       "4  Trump investigation live updates Trump claims ...         John Wagner   \n",
       "\n",
       "                                                Text  \\\n",
       "0  Gift Article Share\\n\\nFormer president Donald ...   \n",
       "1  Gift Article Share\\n\\nFormer president Donald ...   \n",
       "2  Gift Article Share\\n\\nFormer president Donald ...   \n",
       "3  Gift Article Share\\n\\nFormer president Donald ...   \n",
       "4  The activity Monday at Mar-a-Lago appears rela...   \n",
       "\n",
       "                                             Summary Published_date  \\\n",
       "0  In a lengthy statement in which he equated the...     2022-08-08   \n",
       "1  In a lengthy statement in which he equated the...     2022-08-08   \n",
       "2  In a lengthy statement in which he equated the...     2022-08-08   \n",
       "3  In a lengthy statement in which he equated the...     2022-08-08   \n",
       "4  The activity Monday at Mar-a-Lago appears rela...     2022-08-09   \n",
       "\n",
       "                           Source  \n",
       "0  https://www.washingtonpost.com  \n",
       "1  https://www.washingtonpost.com  \n",
       "2  https://www.washingtonpost.com  \n",
       "3  https://www.washingtonpost.com  \n",
       "4  https://www.washingtonpost.com  "
      ]
     },
     "execution_count": 13,
     "metadata": {},
     "output_type": "execute_result"
    }
   ],
   "source": [
    "# Lets say we wanted to download articles from WashingtonPost (a US newspaper agency)\n",
    "washington = newspaper.build(\"https://www.washingtonpost.com/world/\", memoize_articles = False)\n",
    "# setting memoization to false prevents cache and saving into memory\n",
    "final_df = pd.DataFrame()\n",
    "counter = 0\n",
    "\n",
    "for each_article in washington.articles:\n",
    "    each_article.download()\n",
    "    each_article.parse()\n",
    "    each_article.nlp()\n",
    "    \n",
    "    temp_df = pd.DataFrame(columns= ['Title', 'Authors', 'Text', 'Summary', 'Published_date', 'Source'])\n",
    "    temp_df['Authors'] = (each_article.authors)\n",
    "    temp_df['Title'] = each_article.title\n",
    "    temp_df['Text'] = each_article.text\n",
    "    temp_df['Summary'] = each_article.summary\n",
    "    temp_df['Published_date'] = each_article.publish_date\n",
    "    temp_df['Source'] = each_article.source_url\n",
    "    \n",
    "    final_df = final_df.append(temp_df, ignore_index=True)\n",
    "    counter += 1\n",
    "    if counter > 15:\n",
    "        break\n",
    "    \n",
    "final_df.head()"
   ]
  },
  {
   "cell_type": "markdown",
   "id": "035998f1-274e-41bb-9002-edc6c75bc6b8",
   "metadata": {},
   "source": [
    "### Multi Threaded Web Scraping\n",
    "\n",
    "The above solution is slow as it downloads each article one after another. If you have many news sources, this could be a time consuming process.\n",
    "However, there is a way to speed up all this process. We can do this with the help of multi threading technologies."
   ]
  },
  {
   "cell_type": "code",
   "execution_count": 14,
   "id": "82c938b2-5d0d-4306-812a-26aef8651b14",
   "metadata": {},
   "outputs": [],
   "source": [
    "import newspaper\n",
    "from newspaper import news_pool\n",
    "\n",
    "# Various news sources we will like to web scrape from \n",
    "washington = newspaper.build(\"https://www.washingtonpost.com/world/\", memoize_articles = False)\n",
    "bbc = newspaper.build(\"https://www.bbc.com/news\", memoize_articles = False)\n",
    "\n",
    "# Place the sources in a list\n",
    "papers = [washington, bbc]\n",
    "\n",
    "# Essentially we will be downloading 2 articles parallely per source.\n",
    "# Since we have two sources, 4 sources will be downloaded at any one time, thereby greatly speeding up the process. \n",
    "# Once downloaded they will be stored in memory to be used in the for loop below to extract the bits of data we want."
   ]
  },
  {
   "cell_type": "code",
   "execution_count": 15,
   "id": "c2779957-d2ad-4b8e-a193-554922d1b036",
   "metadata": {},
   "outputs": [],
   "source": [
    "news_pool.set(papers, threads_per_source = 2)\n",
    "\n",
    "news_pool.join()\n",
    "\n",
    "# Create our final dataframe\n",
    "final_df = pd.DataFrame()\n",
    "\n",
    "# Create a download limit per source\n",
    "limit = 50\n",
    "\n",
    "for source in papers:\n",
    "    # temporary list to store each element we want to extract\n",
    "    list_title = []\n",
    "    list_text = []\n",
    "    list_source = []\n",
    "    count = 0\n",
    "    for article_extract in source.articles:\n",
    "        article_extract.parse()\n",
    "        if count > limit: \n",
    "            break\n",
    "        # Appending the elements we want to extract\n",
    "        list_text.append(article_extract.text)\n",
    "        list_title.append(article_extract.title)\n",
    "        list_source.append(article_extract.source_url)\n",
    "        #update count\n",
    "        count += 1\n",
    "        #print(\"one article appended\")\n",
    "    temp_df = pd.DataFrame({'Title': list_title, 'Text': list_text, 'Source': list_source})\n",
    "    # Append to the final dataframe\n",
    "    final_df = final_df.append(temp_df, ignore_index= True)\n",
    "    \n",
    "# Exporting to csv file\n",
    "final_df.to_csv('my_scraped_articles.csv')"
   ]
  },
  {
   "cell_type": "code",
   "execution_count": 16,
   "id": "dcc21c47-69e0-4014-8f5c-bb033586a214",
   "metadata": {},
   "outputs": [
    {
     "data": {
      "text/html": [
       "<div>\n",
       "<style scoped>\n",
       "    .dataframe tbody tr th:only-of-type {\n",
       "        vertical-align: middle;\n",
       "    }\n",
       "\n",
       "    .dataframe tbody tr th {\n",
       "        vertical-align: top;\n",
       "    }\n",
       "\n",
       "    .dataframe thead th {\n",
       "        text-align: right;\n",
       "    }\n",
       "</style>\n",
       "<table border=\"1\" class=\"dataframe\">\n",
       "  <thead>\n",
       "    <tr style=\"text-align: right;\">\n",
       "      <th></th>\n",
       "      <th>Title</th>\n",
       "      <th>Text</th>\n",
       "      <th>Source</th>\n",
       "    </tr>\n",
       "  </thead>\n",
       "  <tbody>\n",
       "    <tr>\n",
       "      <th>0</th>\n",
       "      <td>FBI searches Trump safe at Mar-a-Lago Club, fo...</td>\n",
       "      <td>Gift Article Share\\n\\nFormer president Donald ...</td>\n",
       "      <td>https://www.washingtonpost.com</td>\n",
       "    </tr>\n",
       "    <tr>\n",
       "      <th>1</th>\n",
       "      <td>Trump investigation live updates Trump claims ...</td>\n",
       "      <td>The activity Monday at Mar-a-Lago appears rela...</td>\n",
       "      <td>https://www.washingtonpost.com</td>\n",
       "    </tr>\n",
       "    <tr>\n",
       "      <th>2</th>\n",
       "      <td>Trump investigation live updates Trump claims ...</td>\n",
       "      <td>The activity Monday at Mar-a-Lago appears rela...</td>\n",
       "      <td>https://www.washingtonpost.com</td>\n",
       "    </tr>\n",
       "    <tr>\n",
       "      <th>3</th>\n",
       "      <td>Trump investigation live updates Trump claims ...</td>\n",
       "      <td>The activity Monday at Mar-a-Lago appears rela...</td>\n",
       "      <td>https://www.washingtonpost.com</td>\n",
       "    </tr>\n",
       "    <tr>\n",
       "      <th>4</th>\n",
       "      <td>Top Republicans echo Trump’s evidence-free cla...</td>\n",
       "      <td>Listen 9 min Comment on this story Comment Gif...</td>\n",
       "      <td>https://www.washingtonpost.com</td>\n",
       "    </tr>\n",
       "  </tbody>\n",
       "</table>\n",
       "</div>"
      ],
      "text/plain": [
       "                                               Title  \\\n",
       "0  FBI searches Trump safe at Mar-a-Lago Club, fo...   \n",
       "1  Trump investigation live updates Trump claims ...   \n",
       "2  Trump investigation live updates Trump claims ...   \n",
       "3  Trump investigation live updates Trump claims ...   \n",
       "4  Top Republicans echo Trump’s evidence-free cla...   \n",
       "\n",
       "                                                Text  \\\n",
       "0  Gift Article Share\\n\\nFormer president Donald ...   \n",
       "1  The activity Monday at Mar-a-Lago appears rela...   \n",
       "2  The activity Monday at Mar-a-Lago appears rela...   \n",
       "3  The activity Monday at Mar-a-Lago appears rela...   \n",
       "4  Listen 9 min Comment on this story Comment Gif...   \n",
       "\n",
       "                           Source  \n",
       "0  https://www.washingtonpost.com  \n",
       "1  https://www.washingtonpost.com  \n",
       "2  https://www.washingtonpost.com  \n",
       "3  https://www.washingtonpost.com  \n",
       "4  https://www.washingtonpost.com  "
      ]
     },
     "execution_count": 16,
     "metadata": {},
     "output_type": "execute_result"
    }
   ],
   "source": [
    "final_df.head()"
   ]
  },
  {
   "cell_type": "code",
   "execution_count": null,
   "id": "0be2418b-2b39-47a1-96f6-9ef58aad3b2f",
   "metadata": {},
   "outputs": [],
   "source": []
  }
 ],
 "metadata": {
  "kernelspec": {
   "display_name": "Python 3 (ipykernel)",
   "language": "python",
   "name": "python3"
  },
  "language_info": {
   "codemirror_mode": {
    "name": "ipython",
    "version": 3
   },
   "file_extension": ".py",
   "mimetype": "text/x-python",
   "name": "python",
   "nbconvert_exporter": "python",
   "pygments_lexer": "ipython3",
   "version": "3.9.13"
  }
 },
 "nbformat": 4,
 "nbformat_minor": 5
}
