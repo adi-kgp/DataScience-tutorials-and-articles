{
 "cells": [
  {
   "cell_type": "markdown",
   "id": "0c0a4f71-efaa-4d6e-8837-5561230e928e",
   "metadata": {},
   "source": [
    "## A Gentle Introduction to the Monte Carlo Simulations\n",
    "\n",
    "In this notebook we will learn how to create this famous simulation using R"
   ]
  },
  {
   "cell_type": "markdown",
   "id": "a4bff7cf-240b-4298-b042-cb4ebde3765f",
   "metadata": {},
   "source": [
    "### What is a Monte Carlo Simulation ?\n",
    "\n",
    "Monte Carlo Simulation (to be referred onwards as MCS) - also known as the multiply probability simulation - is a method to estimate the probability of the outcomes of an uncertain event.\n",
    "\n",
    "This method became famous after the mathematician Stanislaw Ulam considered it during the project to construct the atomic bomb. Besides the nasty purpose that made the MCS famous, it is actually very useful to get an approximate result for a number of problems just by simulating the problem over and over again. And with the increasing power of the computer processing speed, the MCS becomes another good resource to have in your toolbox. "
   ]
  },
  {
   "cell_type": "markdown",
   "id": "cd5842e7-c02d-4df1-8c47-e1e1f06d938a",
   "metadata": {},
   "source": [
    "#### Monte Carlo simulations can be understood as the process of repeating the same experiment for n times, using \n",
    "#### randomly generated numbers that follow the same distribution of our data to simulate a variable of the problem."
   ]
  },
  {
   "cell_type": "markdown",
   "id": "e6be69a2-2fe7-4235-b2dd-ab9b3c3b7f2a",
   "metadata": {},
   "source": [
    "### Monte Carlo Simulations and the LLN \n",
    "\n",
    "A concept that supports the MCS is the Law of Large Numbers. Such famous law states that , as we increase the number of repetitions of a given experiment, the mean value of the results tend to get closer to the real value of the probability of those events to happen.\n",
    "\n",
    "We all know that the chance to get a Heads or Tails when flipping a coin is 50% for each side. But if you flip a coin twice in a row, you can get Heads-Heads (H-H), Tails-Tails (T-T) or H-T or T-H. Well, half of the chance is that you will get only Heads (100% / 0%) or Only Tails (0% / 100%), what is far from the real probability. Now if you flip the same coin hundreds of times, there you go, You will certainly see something around the 50/50 distribution. \n",
    "\n",
    "That is why MCS runs many times the same experiment."
   ]
  },
  {
   "cell_type": "markdown",
   "id": "a8c18588-2775-47ea-a822-0610d144c364",
   "metadata": {},
   "source": [
    "### The Fishes Problem\n",
    "\n",
    "Imagine a lake. We want to know how many fish are in there. A classic MCS problem solves that problem saying that we could initially fish 100 fishes and marking them. Now we know there are 100 fishes marked, but we don't know what's the proportion that it represents out of the total.\n",
    "\n",
    "Therefore, we repeat that and fish 100 fishes a few times more and check what is the percentage of those that are marked and not marked. If we know that the approximate percentage of marked fishes, all we need to do to know the total is calculate the whole ( e.g. the MCS gives us 20% of fishes marked, that means that the number of marked fishes (100) in that lake represents 20% of the total. Thus, the total would be 500.)\n",
    "\n",
    "Let's see that in code:"
   ]
  },
  {
   "cell_type": "code",
   "execution_count": 1,
   "id": "2ece0ebd-07bb-40a4-9799-9f22e238ac13",
   "metadata": {},
   "outputs": [
    {
     "name": "stdout",
     "output_type": "stream",
     "text": [
      "[1] \"Marked fish in the lake: 100\"\n"
     ]
    }
   ],
   "source": [
    "# Creating the lake with 100 marked fish and 400 not marked \n",
    "fishes <- data.frame(num=seq(1:500),\n",
    "                     marked=rep(c(1,1,0,0,0,0,0,0,0,0), times=50)\n",
    "                     )\n",
    "\n",
    "# Confirming 100 marked fishes \n",
    "marked_fish_total <- sum(fishes[fishes$marked==1,2])\n",
    "print( paste(\"Marked fish in the lake:\", marked_fish_total))"
   ]
  },
  {
   "cell_type": "code",
   "execution_count": 2,
   "id": "e8f57521-34df-43de-9fb3-3979a990ca48",
   "metadata": {},
   "outputs": [
    {
     "data": {
      "text/html": [
       "'If we know the percentage of marked fish and we know that the total of marked fish in that lake is 100, then we can\\ncalculate the 100% using this formula:\\nMarked Fish total / Marked Fish Proportion'"
      ],
      "text/latex": [
       "'If we know the percentage of marked fish and we know that the total of marked fish in that lake is 100, then we can\\textbackslash{}ncalculate the 100\\% using this formula:\\textbackslash{}nMarked Fish total / Marked Fish Proportion'"
      ],
      "text/markdown": [
       "'If we know the percentage of marked fish and we know that the total of marked fish in that lake is 100, then we can\\ncalculate the 100% using this formula:\\nMarked Fish total / Marked Fish Proportion'"
      ],
      "text/plain": [
       "[1] \"If we know the percentage of marked fish and we know that the total of marked fish in that lake is 100, then we can\\ncalculate the 100% using this formula:\\nMarked Fish total / Marked Fish Proportion\""
      ]
     },
     "metadata": {},
     "output_type": "display_data"
    },
    {
     "data": {
      "text/html": [
       "500.475451679095"
      ],
      "text/latex": [
       "500.475451679095"
      ],
      "text/markdown": [
       "500.475451679095"
      ],
      "text/plain": [
       "[1] 500.4755"
      ]
     },
     "metadata": {},
     "output_type": "display_data"
    }
   ],
   "source": [
    "### Monte Carlo Simulation ###\n",
    "\n",
    "monte_carlo <- function(reps, dataset){\n",
    "    \" Run the same experiment for n reps and return the average proportion\n",
    "    * reps: [int] How many repetitions of the same experiment\n",
    "    * dataset: [data.frame] it is the dataframe with the fish data\"\n",
    "    # Creating a vector to collect the marked fishes proportion \n",
    "    marked_prop <- c()\n",
    "    # Let's simulate the fishing of 100 fishes, repeated 1000 times \n",
    "    for (experiment in seq(1, reps)){\n",
    "        # shuffle the dataset\n",
    "        shuffled <- sample(nrow(dataset))\n",
    "        dataset <- dataset[shuffled, ]\n",
    "        # create a random index before catching the fish \n",
    "        index <- sample(1:500, size=100)\n",
    "        fishing <- dataset[index,]\n",
    "        # Calculate the proportion\n",
    "        p <- mean(fishing$marked)\n",
    "        # Store result in the vector \n",
    "        marked_prop <- c(marked_prop, p)\n",
    "    } # close for loop\n",
    "    # calculate and return the mean proportion after n repititions \n",
    "    return (mean(marked_prop))\n",
    "    } # close the function\n",
    "\n",
    "# Running the Monte Carlo Simulation \n",
    "marked_fish_proportion <- monte_carlo(1000, fishes)\n",
    "\n",
    "\"If we know the percentage of marked fish and we know that the total of marked fish in that lake is 100, then we can\n",
    "calculate the 100% using this formula:\n",
    "Marked Fish total / Marked Fish Proportion\"\n",
    "\n",
    "# Total Fish in the lake\n",
    "marked_fish_total / marked_fish_proportion"
   ]
  },
  {
   "cell_type": "markdown",
   "id": "652ee1ec-1603-4ccf-bc1a-e7f7feb0c34c",
   "metadata": {},
   "source": [
    "### How is MCS different than Bootstrapping?\n",
    "\n",
    "Both techniques are closely related, given that they are based on repetitions to get to an estimated number, relying on the Large Numbers Law and Central Limit Theorem. \n",
    "\n",
    "However, the big difference between them is that the Bootstrap technique will sample over the data you already have and it will get the estimated statistic out of that, like a fancy average calculation. \n",
    "\n",
    "Now the MCS technique will create new random numbers using the same distribution as your real data, so it simulates a new dataset and helps you to answer this what if question: \"what if new data keep coming in those same conditions, what would happen to that statistic/number I am trying to predict?\""
   ]
  },
  {
   "cell_type": "markdown",
   "id": "ae21469a-dfcc-41a3-b4ad-bde4c042591e",
   "metadata": {},
   "source": [
    "### Understanding the MCS Logic using R\n",
    "\n",
    "To apply the Monte Carlo method, it is important to keep in mind the following main steps:\n",
    "\n",
    "**1. Define your inputs. What are you trying to predict/estimate and what are your explanatory variables.**\n",
    "\n",
    "**Example:** We are hired by a restaurant that wants to know the average number of customers that will come to dinner in a month. The owner gives us 90 days of attendance; the average number of people per night is 193. 250 or more people happened a couple of times. And during the calmest nights, they saw around 150 people coming to dinner."
   ]
  },
  {
   "cell_type": "code",
   "execution_count": 3,
   "id": "7f6de53c-eab0-430b-ae09-3c900e4dd7fb",
   "metadata": {},
   "outputs": [],
   "source": [
    "# Creating a normal distribution \n",
    "n <- rnorm(90, mean=200, sd=40)\n",
    "n <- as.integer(n)"
   ]
  },
  {
   "cell_type": "code",
   "execution_count": 4,
   "id": "ee126be8-2d98-4ea6-aba1-a596fcc80f3f",
   "metadata": {},
   "outputs": [
    {
     "data": {
      "text/html": [
       "<style>\n",
       ".list-inline {list-style: none; margin:0; padding: 0}\n",
       ".list-inline>li {display: inline-block}\n",
       ".list-inline>li:not(:last-child)::after {content: \"\\00b7\"; padding: 0 .5ex}\n",
       "</style>\n",
       "<ol class=list-inline><li>207</li><li>238</li><li>118</li><li>168</li><li>197</li><li>247</li><li>197</li><li>121</li><li>166</li><li>222</li><li>225</li><li>199</li><li>249</li><li>193</li><li>212</li><li>234</li><li>195</li><li>246</li><li>188</li><li>187</li><li>266</li><li>169</li><li>315</li><li>203</li><li>243</li><li>150</li><li>159</li><li>131</li><li>180</li><li>196</li><li>295</li><li>260</li><li>258</li><li>248</li><li>201</li><li>165</li><li>195</li><li>261</li><li>201</li><li>267</li><li>205</li><li>177</li><li>185</li><li>191</li><li>226</li><li>179</li><li>195</li><li>213</li><li>123</li><li>259</li><li>156</li><li>200</li><li>166</li><li>215</li><li>200</li><li>226</li><li>190</li><li>230</li><li>250</li><li>169</li><li>214</li><li>186</li><li>314</li><li>201</li><li>142</li><li>224</li><li>230</li><li>255</li><li>157</li><li>263</li><li>199</li><li>266</li><li>133</li><li>223</li><li>191</li><li>181</li><li>214</li><li>226</li><li>213</li><li>172</li><li>255</li><li>138</li><li>217</li><li>169</li><li>206</li><li>199</li><li>252</li><li>177</li><li>200</li><li>196</li></ol>\n"
      ],
      "text/latex": [
       "\\begin{enumerate*}\n",
       "\\item 207\n",
       "\\item 238\n",
       "\\item 118\n",
       "\\item 168\n",
       "\\item 197\n",
       "\\item 247\n",
       "\\item 197\n",
       "\\item 121\n",
       "\\item 166\n",
       "\\item 222\n",
       "\\item 225\n",
       "\\item 199\n",
       "\\item 249\n",
       "\\item 193\n",
       "\\item 212\n",
       "\\item 234\n",
       "\\item 195\n",
       "\\item 246\n",
       "\\item 188\n",
       "\\item 187\n",
       "\\item 266\n",
       "\\item 169\n",
       "\\item 315\n",
       "\\item 203\n",
       "\\item 243\n",
       "\\item 150\n",
       "\\item 159\n",
       "\\item 131\n",
       "\\item 180\n",
       "\\item 196\n",
       "\\item 295\n",
       "\\item 260\n",
       "\\item 258\n",
       "\\item 248\n",
       "\\item 201\n",
       "\\item 165\n",
       "\\item 195\n",
       "\\item 261\n",
       "\\item 201\n",
       "\\item 267\n",
       "\\item 205\n",
       "\\item 177\n",
       "\\item 185\n",
       "\\item 191\n",
       "\\item 226\n",
       "\\item 179\n",
       "\\item 195\n",
       "\\item 213\n",
       "\\item 123\n",
       "\\item 259\n",
       "\\item 156\n",
       "\\item 200\n",
       "\\item 166\n",
       "\\item 215\n",
       "\\item 200\n",
       "\\item 226\n",
       "\\item 190\n",
       "\\item 230\n",
       "\\item 250\n",
       "\\item 169\n",
       "\\item 214\n",
       "\\item 186\n",
       "\\item 314\n",
       "\\item 201\n",
       "\\item 142\n",
       "\\item 224\n",
       "\\item 230\n",
       "\\item 255\n",
       "\\item 157\n",
       "\\item 263\n",
       "\\item 199\n",
       "\\item 266\n",
       "\\item 133\n",
       "\\item 223\n",
       "\\item 191\n",
       "\\item 181\n",
       "\\item 214\n",
       "\\item 226\n",
       "\\item 213\n",
       "\\item 172\n",
       "\\item 255\n",
       "\\item 138\n",
       "\\item 217\n",
       "\\item 169\n",
       "\\item 206\n",
       "\\item 199\n",
       "\\item 252\n",
       "\\item 177\n",
       "\\item 200\n",
       "\\item 196\n",
       "\\end{enumerate*}\n"
      ],
      "text/markdown": [
       "1. 207\n",
       "2. 238\n",
       "3. 118\n",
       "4. 168\n",
       "5. 197\n",
       "6. 247\n",
       "7. 197\n",
       "8. 121\n",
       "9. 166\n",
       "10. 222\n",
       "11. 225\n",
       "12. 199\n",
       "13. 249\n",
       "14. 193\n",
       "15. 212\n",
       "16. 234\n",
       "17. 195\n",
       "18. 246\n",
       "19. 188\n",
       "20. 187\n",
       "21. 266\n",
       "22. 169\n",
       "23. 315\n",
       "24. 203\n",
       "25. 243\n",
       "26. 150\n",
       "27. 159\n",
       "28. 131\n",
       "29. 180\n",
       "30. 196\n",
       "31. 295\n",
       "32. 260\n",
       "33. 258\n",
       "34. 248\n",
       "35. 201\n",
       "36. 165\n",
       "37. 195\n",
       "38. 261\n",
       "39. 201\n",
       "40. 267\n",
       "41. 205\n",
       "42. 177\n",
       "43. 185\n",
       "44. 191\n",
       "45. 226\n",
       "46. 179\n",
       "47. 195\n",
       "48. 213\n",
       "49. 123\n",
       "50. 259\n",
       "51. 156\n",
       "52. 200\n",
       "53. 166\n",
       "54. 215\n",
       "55. 200\n",
       "56. 226\n",
       "57. 190\n",
       "58. 230\n",
       "59. 250\n",
       "60. 169\n",
       "61. 214\n",
       "62. 186\n",
       "63. 314\n",
       "64. 201\n",
       "65. 142\n",
       "66. 224\n",
       "67. 230\n",
       "68. 255\n",
       "69. 157\n",
       "70. 263\n",
       "71. 199\n",
       "72. 266\n",
       "73. 133\n",
       "74. 223\n",
       "75. 191\n",
       "76. 181\n",
       "77. 214\n",
       "78. 226\n",
       "79. 213\n",
       "80. 172\n",
       "81. 255\n",
       "82. 138\n",
       "83. 217\n",
       "84. 169\n",
       "85. 206\n",
       "86. 199\n",
       "87. 252\n",
       "88. 177\n",
       "89. 200\n",
       "90. 196\n",
       "\n",
       "\n"
      ],
      "text/plain": [
       " [1] 207 238 118 168 197 247 197 121 166 222 225 199 249 193 212 234 195 246 188\n",
       "[20] 187 266 169 315 203 243 150 159 131 180 196 295 260 258 248 201 165 195 261\n",
       "[39] 201 267 205 177 185 191 226 179 195 213 123 259 156 200 166 215 200 226 190\n",
       "[58] 230 250 169 214 186 314 201 142 224 230 255 157 263 199 266 133 223 191 181\n",
       "[77] 214 226 213 172 255 138 217 169 206 199 252 177 200 196"
      ]
     },
     "metadata": {},
     "output_type": "display_data"
    }
   ],
   "source": [
    "n"
   ]
  },
  {
   "cell_type": "code",
   "execution_count": 8,
   "id": "77d6f07e-6983-410a-8459-b5cb6421336c",
   "metadata": {},
   "outputs": [
    {
     "data": {
      "image/png": "[encoded data removed]",
      "text/plain": [
       "Plot with title “Histogram of n”"
      ]
     },
     "metadata": {
      "image/png": {
       "height": 525,
       "width": 525
      }
     },
     "output_type": "display_data"
    }
   ],
   "source": [
    "options(repr.plot.res = 150)\n",
    "hist(n,\n",
    "    ylab=\"Frequency\", xlab=\"Average number of customers per evening\")"
   ]
  },
  {
   "cell_type": "markdown",
   "id": "d1222f2c-993d-4715-a1a1-8700b629d363",
   "metadata": {},
   "source": [
    "**2. Define the distributions of the explanatory variables (eg. normal, continuous, uniform, exponential).**\n",
    "\n",
    "In this case, I have created a normal distribution, but we also consider average numbers as normal, since it relies on the Central Limit Theorem, where the averages of the samples will converge to an approximately normal curve. \n",
    "\n",
    "**3. Our next step is to create a distribution for our simulation. Therefore, we must calculate the Cumulative Distribution Function, or CDF, which will tell us what is the probability of a number to be in that given interval.**"
   ]
  },
  {
   "cell_type": "code",
   "execution_count": 9,
   "id": "89c51842-9bb3-4a10-b726-421dd051813d",
   "metadata": {},
   "outputs": [
    {
     "data": {
      "image/png": "[encoded data removed]",
      "text/plain": [
       "Plot with title “CDF for Customers”"
      ]
     },
     "metadata": {
      "image/png": {
       "height": 525,
       "width": 525
      }
     },
     "output_type": "display_data"
    }
   ],
   "source": [
    "# Plot the CDF\n",
    "plot( x=n,\n",
    "     xlab=\"Customers\",\n",
    "     y = pnorm(n, mean=193, sd=40),\n",
    "     ylab = \"Probability\",\n",
    "     col = \"red\",\n",
    "     main = \"CDF for Customers\")"
   ]
  },
  {
   "cell_type": "markdown",
   "id": "96653637-853c-4cb0-8ee9-4e99dd96a872",
   "metadata": {},
   "source": [
    "Notice that, for each number of customers in X, there's a probability associated in Y. So, if you want to know what is the number of customers with 50% chance to happen, you will see the mean 193."
   ]
  },
  {
   "cell_type": "markdown",
   "id": "df952bfc-a9d7-482b-8fa9-9c1a92eaacf9",
   "metadata": {},
   "source": [
    "**4. With that distribution in hands, now you can generate n random numbers between 0 and 1. Those numbers will represent percentages that you can associate with the distribution from step 3, thus generating a simulated attendance to the restaurant.** "
   ]
  },
  {
   "cell_type": "code",
   "execution_count": 12,
   "id": "a4c549aa-d231-4a0d-8a2a-b70e27573150",
   "metadata": {},
   "outputs": [],
   "source": [
    "# simulated attendance\n",
    "mcs_customers <- function(simulations){\n",
    "    \"This function takes an integer number and generates that amount of repetitions of the simulation\"\n",
    "    # Create a list to store the results\n",
    "    mcs_results <- c()\n",
    "    # Loop\n",
    "    for (n in 1:simulations) {\n",
    "        # Generate a random number \n",
    "        r <- runif(1)\n",
    "        # Use our CDF to capture the simulated quantity of customers \n",
    "        simulated <- qnorm(r, mean = customer_avg, sd = customer_std)\n",
    "        # Take the lowest integer rounded\n",
    "        simulated <- floor(simulated)\n",
    "        # Store result\n",
    "        mcs_results <- c(mcs_results, simulated)\n",
    "    } # end loop\n",
    "    # Plot histogram\n",
    "    hist(mcs_results, col=\"royalblue\")\n",
    "    # Return vector \n",
    "    return (mcs_results)\n",
    "} # end function"
   ]
  },
  {
   "cell_type": "markdown",
   "id": "67adbbc4-7a9f-4794-8feb-64d975cc9589",
   "metadata": {},
   "source": [
    "And applying the above function, that's the result."
   ]
  },
  {
   "cell_type": "code",
   "execution_count": 13,
   "id": "51dfd901-75aa-402e-a2ec-bebd504073d8",
   "metadata": {},
   "outputs": [
    {
     "ename": "ERROR",
     "evalue": "Error in qnorm(r, mean = customer_avg, sd = customer_std): object 'customer_avg' not found\n",
     "output_type": "error",
     "traceback": [
      "Error in qnorm(r, mean = customer_avg, sd = customer_std): object 'customer_avg' not found\nTraceback:\n",
      "1. mcs_customers(500)",
      "2. qnorm(r, mean = customer_avg, sd = customer_std)   # at line 11 of file <text>"
     ]
    }
   ],
   "source": [
    "mcs <- mcs_customers(500)"
   ]
  },
  {
   "cell_type": "markdown",
   "id": "3f084e25-409f-448a-946b-7ad40ea9d30c",
   "metadata": {},
   "source": [
    "#### Tutorial aborted due to missing information, **note:** beware of those articles written by data scientists who work for some private company, especially those with complex statistical or scientific nature.  "
   ]
  },
  {
   "cell_type": "code",
   "execution_count": null,
   "id": "79b71381-7c5e-4a63-ba2c-0ca08d2c9212",
   "metadata": {},
   "outputs": [],
   "source": []
  }
 ],
 "metadata": {
  "kernelspec": {
   "display_name": "R",
   "language": "R",
   "name": "ir"
  },
  "language_info": {
   "codemirror_mode": "r",
   "file_extension": ".r",
   "mimetype": "text/x-r-source",
   "name": "R",
   "pygments_lexer": "r",
   "version": "4.1.3"
  }
 },
 "nbformat": 4,
 "nbformat_minor": 5
}
