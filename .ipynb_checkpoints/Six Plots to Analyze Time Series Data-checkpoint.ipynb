{
 "cells": [
  {
   "cell_type": "markdown",
   "id": "eda83a5e-a569-46d4-b43a-24ecfcfaf9ae",
   "metadata": {},
   "source": [
    "## Six Plots to Analyze your Time Series Data\n",
    "\n",
    "#### Implementing boxplots, Fourier Transform, entropy, autocorrelation and PCA to analyze your time series data in Python"
   ]
  },
  {
   "cell_type": "markdown",
   "id": "402360ec-5168-449f-a544-276e6871dacd",
   "metadata": {},
   "source": [
    "Data visualization is one of the most important stages in any data-related project. Dependeing on whom the data visualization is made for, there are:\n",
    "\n",
    "1. Data visualization to report results.\n",
    "\n",
    "2. Data visualization to analyze the data or, in other words, the visualization used internally by the data scientist to extract information about the data to then implement their models."
   ]
  },
  {
   "cell_type": "markdown",
   "id": "84e3ee2a-ca68-4a76-92dc-0c67ed0db01c",
   "metadata": {},
   "source": [
    "This article mainly focuses on the latter one, as it explains some methods that help in the analysis of time series\n",
    "data. Specifically, this article covers the following methods:\n",
    "1) Mean and STD\n",
    "2) BoxPlots\n",
    "3) Fourier\n",
    "4) Entropy\n",
    "5) Dimensionality Reduction, and\n",
    "6) Autocorrelation"
   ]
  },
  {
   "cell_type": "markdown",
   "id": "ea087a35-63ad-4503-bcf2-510398f4d0f9",
   "metadata": {},
   "source": [
    "### 0.Libraries\n",
    "\n",
    "Firstly, these are the libraries used along with the notebook. Most of the code goes around the NumPy and Pandas liraries as the data is mostly used as a numpy array of pandas dataframe."
   ]
  },
  {
   "cell_type": "code",
   "execution_count": 1,
   "id": "744938d4-8924-4c67-8651-3b305f0bdb57",
   "metadata": {},
   "outputs": [],
   "source": [
    "import numpy as np\n",
    "import pandas as pd\n",
    "import seaborn as sns\n",
    "\n",
    "import matplotlib.pyplot as plt\n",
    "from matplotlib.colors import LogNorm\n",
    "from matplotlib.dates import date2num\n",
    "\n",
    "from sklearn.preprocessing import StandardScaler, MinMaxScaler\n",
    "from sklearn.decomposition import PCA\n",
    "from sklearn.pipeline import make_pipeline\n",
    "from sklearn.feature_selection import SelectKBest, chi2\n",
    "\n",
    "from statsmodels.tsa.stattools import adfuller\n",
    "from statsmodels.graphics.tsaplots import plot_acf\n",
    "\n",
    "import warnings\n",
    "warnings.filterwarnings(\"ignore\")"
   ]
  },
  {
   "cell_type": "markdown",
   "id": "90f7067e-424f-406c-b354-9f49339e2236",
   "metadata": {},
   "source": [
    "### 1. Importing the file"
   ]
  },
  {
   "cell_type": "code",
   "execution_count": null,
   "id": "2e4bacb8-2d4d-4c79-9ac7-ce68a5114cef",
   "metadata": {},
   "outputs": [],
   "source": [
    "df_orig = pd.read_csv("
   ]
  }
 ],
 "metadata": {
  "kernelspec": {
   "display_name": "Python 3 (ipykernel)",
   "language": "python",
   "name": "python3"
  },
  "language_info": {
   "codemirror_mode": {
    "name": "ipython",
    "version": 3
   },
   "file_extension": ".py",
   "mimetype": "text/x-python",
   "name": "python",
   "nbconvert_exporter": "python",
   "pygments_lexer": "ipython3",
   "version": "3.9.13"
  }
 },
 "nbformat": 4,
 "nbformat_minor": 5
}
