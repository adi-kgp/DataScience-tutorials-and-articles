{
 "cells": [
  {
   "attachments": {
    "4673cb40-f15d-4140-bac8-d9cef0d94ebc.png": {
     "image/png": "[encoded data removed]"
    }
   },
   "cell_type": "markdown",
   "id": "9468c9ef-4ad0-4c2f-9a6d-b3e011f996c9",
   "metadata": {},
   "source": [
    "## Using Python to Calculate Chebyshev's formula\n",
    "\n",
    "While studying statistics, I happened to come across **Chebyshev's theorem**, which is named after Russian mathematician, Pafnuty Chebyshev, who is considered to be the founding father of Russian mathematics.\n",
    "\n",
    "In the field of statistics, Chebyshev's theorem estimates the minimum number of observations that fall within a specified number of standard deviations from the mean. Unlike the empiricle rule, Chebyshev's theorem can be applied across a broad range of probability distributions. \n",
    "The formula for Chebyshev's theorem is define below:\n",
    "\n",
    "![image.png](attachment:4673cb40-f15d-4140-bac8-d9cef0d94ebc.png)"
   ]
  },
  {
   "cell_type": "markdown",
   "id": "8768700c-7d98-498b-a1f7-a720fbfcba3b",
   "metadata": {},
   "source": [
    "There is a great deal written about this theorem, so I decided to convert the formula in python code in an attempt to make it easily calculable. Unfortunately, I was not really able to find a suitable code for this formula, so I had to endeavor to create a program based upon what I had read about it. \n",
    "\n",
    "In order to solve Chebyshev's formula in python, we need to write two functions, first to solve for the number within and second function to encode the formula itself.\n",
    "\n",
    "**The Algorithm**:\n",
    "\n",
    "1. Define the first function, calc_within_num, which takes a list of numbers as its input.\n",
    "\n",
    "2. Define the variable, mean_x, which is calculated by calling the calc_mean function that I have already created. \n",
    "\n",
    "3. Define the variable small_num, which is calculated by subtracting the smallest number in the list from the mean.\n",
    "\n",
    "4. Define the variable large_num, which is calculated by subtracting the mean from the largest number in the list. \n",
    "\n",
    "5. Define the variable, within_num, calculated by adding the small_num to the large_num and dividing the sum by 2.\n",
    "\n",
    "6. The function calc_within_num returns the variable within_num.\n",
    "\n",
    "7. Define the second function, calc_chebyshev, which accepts a list of numbers as input. \n",
    "\n",
    "8. Define the variable, std_x, which is calculated using the previous function calc_chebyshev.\n",
    "\n",
    "9. Define the variable within_num, which is calculated using the first created function, calc_within_num. \n",
    "\n",
    "10. Define the variable, k, which is calculated by dividing the variable, within_num by variable std_x. \n",
    "\n",
    "11. Define the variable, chebyshev, which is calculated using the formula, being 1 - 1/ksquared.\n",
    "\n",
    "12. The function at last returns the variable chebyshev."
   ]
  },
  {
   "cell_type": "code",
   "execution_count": 2,
   "id": "40655201-2399-4030-abe3-4f8d19402540",
   "metadata": {},
   "outputs": [
    {
     "name": "stdout",
     "output_type": "stream",
     "text": [
      "Std is:  26.41080483902181\n",
      "Mean is:  82.42857142857143\n",
      "Small number is:  41.42857142857143\n",
      "Large number is:  46.57142857142857\n",
      "Within num is:  44.0\n",
      "k is:  1.66598482205246\n",
      "Chebyshev solution is;  0.6397052622701974\n"
     ]
    }
   ],
   "source": [
    "import numpy as np\n",
    "lst = [54,53,42,49,41,45,69,63,62,72,64,67,81,85,89,79,84,86,101,104,108,97,98,126,129,119,117,124]\n",
    "\n",
    "def calc_within_num(x):\n",
    "    mean_x = np.mean(x)\n",
    "    print(\"Mean is: \", mean_x)\n",
    "    small_num = mean_x - min(x)\n",
    "    print(\"Small number is: \", small_num)\n",
    "    large_num = max(x) - mean_x\n",
    "    print(\"Large number is: \", large_num)\n",
    "    within_num = (small_num + large_num) / 2\n",
    "    return within_num\n",
    "\n",
    "def calc_chebyshev(x):\n",
    "    std_x = np.std(x)\n",
    "    print(\"Std is: \", std_x)\n",
    "    within_num = calc_within_num(x)\n",
    "    print(\"Within num is: \", within_num)\n",
    "    k = within_num/std_x\n",
    "    print(\"k is: \", k)\n",
    "    chebyshev = 1 - (1 / k**2)\n",
    "    print(\"Chebyshev solution is; \", chebyshev)\n",
    "    return \n",
    "\n",
    "calc_chebyshev(lst)"
   ]
  },
  {
   "cell_type": "code",
   "execution_count": null,
   "id": "fdd328dc-5e00-40d4-9685-8747e2742720",
   "metadata": {},
   "outputs": [],
   "source": []
  }
 ],
 "metadata": {
  "kernelspec": {
   "display_name": "Python 3 (ipykernel)",
   "language": "python",
   "name": "python3"
  },
  "language_info": {
   "codemirror_mode": {
    "name": "ipython",
    "version": 3
   },
   "file_extension": ".py",
   "mimetype": "text/x-python",
   "name": "python",
   "nbconvert_exporter": "python",
   "pygments_lexer": "ipython3",
   "version": "3.9.13"
  }
 },
 "nbformat": 4,
 "nbformat_minor": 5
}
