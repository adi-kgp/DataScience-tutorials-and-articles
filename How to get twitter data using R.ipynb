{
 "cells": [
  {
   "cell_type": "markdown",
   "id": "5a23159a-6c6b-490e-bb93-242f0a1b120d",
   "metadata": {},
   "source": [
    "## How to get twitter data using R\n",
    "\n",
    "A gentle introduction to rtweet library"
   ]
  },
  {
   "cell_type": "markdown",
   "id": "cc4f7c82-0858-4d9c-b78a-0d375bdbeb47",
   "metadata": {},
   "source": [
    "In this tutorial, we will show you how to get Twitter data using R and more particularly using rtweet library. We need to create a developer account and get our consumer and access keys respectively. Once you generate the keys, you have to store them because you will not be able to retrieve them again. Of course, you can re-generate new ones."
   ]
  },
  {
   "cell_type": "code",
   "execution_count": 2,
   "id": "7753eb62-24f2-4ae4-81cb-3988c7a58f00",
   "metadata": {},
   "outputs": [],
   "source": [
    "## load the rtweet package\n",
    "library(rtweet)"
   ]
  },
  {
   "cell_type": "code",
   "execution_count": 3,
   "id": "6fd72cd6-2746-4d96-bac0-0e9ce5335344",
   "metadata": {
    "collapsed": true,
    "jupyter": {
     "outputs_hidden": true
    },
    "tags": []
   },
   "outputs": [
    {
     "name": "stderr",
     "output_type": "stream",
     "text": [
      "── \u001b[1mAttaching packages\u001b[22m ────────────────────────────────────────────────────────────────────────────────────────── tidyverse 1.3.2 ──\n",
      "\u001b[32m✔\u001b[39m \u001b[34mggplot2\u001b[39m 3.3.6     \u001b[32m✔\u001b[39m \u001b[34mpurrr  \u001b[39m 0.3.4\n",
      "\u001b[32m✔\u001b[39m \u001b[34mtibble \u001b[39m 3.1.8     \u001b[32m✔\u001b[39m \u001b[34mdplyr  \u001b[39m 1.0.9\n",
      "\u001b[32m✔\u001b[39m \u001b[34mtidyr  \u001b[39m 1.2.0     \u001b[32m✔\u001b[39m \u001b[34mstringr\u001b[39m 1.4.0\n",
      "\u001b[32m✔\u001b[39m \u001b[34mreadr  \u001b[39m 2.1.2     \u001b[32m✔\u001b[39m \u001b[34mforcats\u001b[39m 0.5.1\n",
      "── \u001b[1mConflicts\u001b[22m ───────────────────────────────────────────────────────────────────────────────────────────── tidyverse_conflicts() ──\n",
      "\u001b[31m✖\u001b[39m \u001b[34mdplyr\u001b[39m::\u001b[32mfilter()\u001b[39m  masks \u001b[34mstats\u001b[39m::filter()\n",
      "\u001b[31m✖\u001b[39m \u001b[34mpurrr\u001b[39m::\u001b[32mflatten()\u001b[39m masks \u001b[34mrtweet\u001b[39m::flatten()\n",
      "\u001b[31m✖\u001b[39m \u001b[34mdplyr\u001b[39m::\u001b[32mlag()\u001b[39m     masks \u001b[34mstats\u001b[39m::lag()\n"
     ]
    }
   ],
   "source": [
    "## load the tidyverse package\n",
    "library(tidyverse)"
   ]
  },
  {
   "cell_type": "code",
   "execution_count": 4,
   "id": "226ec917-8553-4e42-98e0-8ba69ba83c57",
   "metadata": {},
   "outputs": [
    {
     "name": "stderr",
     "output_type": "stream",
     "text": [
      "Warning message:\n",
      "“`create_token()` was deprecated in rtweet 1.0.0.\n",
      "See vignette('auth') for details\n",
      "\u001b[90mThis warning is displayed once every 8 hours.\u001b[39m\n",
      "\u001b[90mCall `lifecycle::last_lifecycle_warnings()` to see where this warning was generated.\u001b[39m”\n"
     ]
    },
    {
     "ename": "ERROR",
     "evalue": "Error in httr::init_oauth1.0(endpoint, app, permission = permission, is_interactive = is_interactive, : Unauthorized (HTTP 401).\n",
     "output_type": "error",
     "traceback": [
      "Error in httr::init_oauth1.0(endpoint, app, permission = permission, is_interactive = is_interactive, : Unauthorized (HTTP 401).\nTraceback:\n",
      "1. create_token(app = \"rtstatsjournalismresearch\", consumer_key = api_key, \n .     consumer_secret = api_secret_key)",
      "2. rtweet_user(consumer_key, consumer_secret)",
      "3. TwitterToken1.0$new(app = app, endpoint = httr::oauth_endpoints(\"twitter\"), \n .     params = list(as_header = TRUE), cache_path = FALSE)",
      "4. initialize(...)",
      "5. self$init_credentials()",
      "6. twitter_init_oauth1.0(self$endpoint, self$app, permission = self$params$permission, \n .     private_key = self$private_key)",
      "7. httr::init_oauth1.0(endpoint, app, permission = permission, is_interactive = is_interactive, \n .     private_key = private_key)",
      "8. stop_for_status(response)"
     ]
    }
   ],
   "source": [
    "## store api keys \n",
    "api_key <- \"B8FD4c9vhUECRvhwzczkHjy6p\"\n",
    "\n",
    "api_secret_key <- \"O1T54Si886SszokKdAg9WOeXqiJAOKFQhygNvHir8nFQc2MTvB\"\n",
    "\n",
    "## authenticate via web browser\n",
    "token <- create_token(\n",
    "    app = \"rtstatsjournalismresearch\",\n",
    "    consumer_key = api_key,\n",
    "    consumer_secret = api_secret_key)\n",
    "\n",
    "get_token()"
   ]
  },
  {
   "cell_type": "code",
   "execution_count": null,
   "id": "97764d3d-e0f7-430e-b79b-4519545a3a9b",
   "metadata": {},
   "outputs": [],
   "source": []
  }
 ],
 "metadata": {
  "kernelspec": {
   "display_name": "R",
   "language": "R",
   "name": "ir"
  },
  "language_info": {
   "codemirror_mode": "r",
   "file_extension": ".r",
   "mimetype": "text/x-r-source",
   "name": "R",
   "pygments_lexer": "r",
   "version": "4.1.3"
  }
 },
 "nbformat": 4,
 "nbformat_minor": 5
}
